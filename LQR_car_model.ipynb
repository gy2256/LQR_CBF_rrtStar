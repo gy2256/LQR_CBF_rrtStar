{
 "cells": [
  {
   "cell_type": "markdown",
   "metadata": {
    "colab_type": "text",
    "id": "view-in-github"
   },
   "source": [
    "<a href=\"https://colab.research.google.com/github/mingyucai/LQR_CBF_rrtStar/blob/main/LQR_car_model.ipynb\" target=\"_parent\"><img src=\"https://colab.research.google.com/assets/colab-badge.svg\" alt=\"Open In Colab\"/></a>"
   ]
  },
  {
   "cell_type": "code",
   "execution_count": null,
   "metadata": {
    "id": "voVg2p7N0ki0"
   },
   "outputs": [],
   "source": [
    "# continuous LQR: https://github.com/stephentu/zero-to-cartpole/blob/master/swing-up.ipynb\n",
    "\n",
    "# iLQR: https://studywolf.wordpress.com/2016/02/03/the-iterative-linear-quadratic-regulator-method/\n",
    "# iLQR paper: https://homes.cs.washington.edu/~todorov/papers/TassaIROS12.pdf  implementation: https://github.com/anassinator/ilqr"
   ]
  },
  {
   "cell_type": "code",
   "execution_count": null,
   "metadata": {
    "id": "UQKl-AqZJSfB"
   },
   "outputs": [],
   "source": [
    "import numpy as np\n",
    "import scipy.linalg\n",
    "import matplotlib.pyplot as plt\n",
    "\n",
    "def dlqr(A,B,Q,R):\n",
    "    \"\"\"\n",
    "    Solve the discrete time lqr controller.\n",
    "    x[k+1] = A x[k] + B u[k]\n",
    "    cost = sum x[k].T*Q*x[k] + u[k].T*R*u[k]\n",
    "    \"\"\"\n",
    "    # first, solve the ricatti equation\n",
    "    P = np.matrix(scipy.linalg.solve_discrete_are(A, B, Q, R))\n",
    "    # compute the LQR gain\n",
    "    K = np.matrix(scipy.linalg.inv(B.T*P*B+R)*(B.T*P*A))\n",
    "\n",
    "    eigVals, eigVecs = scipy.linalg.eig(A-B*K)\n",
    "    \n",
    "    return -K\n",
    "\n",
    "def lqr(A,B,Q,R):\n",
    "  X = np.matrix(scipy.linalg.solve_continuous_are(A, B, Q, R))\n",
    "  #compute the LQR gain\n",
    "  K = np.matrix(scipy.linalg.inv(R)*(B.T*X))\n",
    "\n",
    "  eigVals, eigVecs = scipy.linalg.eig(A-B*K)\n",
    "\n",
    "  return -K"
   ]
  },
  {
   "cell_type": "code",
   "execution_count": 2,
   "metadata": {
    "colab": {
     "base_uri": "https://localhost:8080/"
    },
    "id": "IeCykiSmJUPC",
    "outputId": "a722e113-e10c-4027-e36c-135c88029f3a"
   },
   "outputs": [
    {
     "name": "stdout",
     "output_type": "stream",
     "text": [
      "(3, 1)\n"
     ]
    }
   ],
   "source": [
    "def getB(yaw, dt):\n",
    "  B = np.matrix([[np.cos(yaw) * dt, 0], [np.sin(yaw) * dt, 0], [0, dt]])\n",
    "  return B\n",
    "\n",
    "A = np.matrix([[1.0, 0, 0],[0 , 1.0, 0], [0, 0, 1.0]])\n",
    "Q = np.matrix(\"0.5 0 0; 0 1 0; 0 0 1\")\n",
    "R = np.matrix(\"0.01 0; 0 0.01\")\n",
    "\n",
    "# print(xk[2, 0])\n",
    "# print(R)\n",
    "xd = np.matrix([[10], [20], [np.pi/2]])\n",
    "xk = np.matrix([[0], [0], [0]])\n",
    "print(xk.shape)\n",
    "dt = 0.1\n",
    "yaw = xk[2, 0]\n",
    "B= getB(yaw, dt)\n",
    "\n",
    "# Optional Variables\n",
    "max_linear_velocity = 3.0 # meters per second\n",
    "max_angular_velocity = 1.5708 # radians per second\n",
    "# xe = xk - xd\n",
    "# K = dlqr(A,B,Q,R)\n",
    "# uk = K*xe\n",
    "# print(uk)z\n",
    "# print(uk)"
   ]
  },
  {
   "cell_type": "code",
   "execution_count": 3,
   "metadata": {
    "colab": {
     "base_uri": "https://localhost:8080/",
     "height": 344
    },
    "id": "amMjY4l8JWL7",
    "outputId": "660ffddb-a925-46ef-d1d2-cf04f3a29238"
   },
   "outputs": [
    {
     "ename": "LinAlgError",
     "evalue": "ignored",
     "output_type": "error",
     "traceback": [
      "\u001b[0;31m---------------------------------------------------------------------------\u001b[0m",
      "\u001b[0;31mLinAlgError\u001b[0m                               Traceback (most recent call last)",
      "\u001b[0;32m<ipython-input-3-b96d8902b798>\u001b[0m in \u001b[0;36m<module>\u001b[0;34m\u001b[0m\n\u001b[0;32m----> 1\u001b[0;31m \u001b[0mK\u001b[0m \u001b[0;34m=\u001b[0m \u001b[0mdlqr\u001b[0m\u001b[0;34m(\u001b[0m\u001b[0mA\u001b[0m\u001b[0;34m,\u001b[0m\u001b[0mB\u001b[0m\u001b[0;34m,\u001b[0m\u001b[0mQ\u001b[0m\u001b[0;34m,\u001b[0m\u001b[0mR\u001b[0m\u001b[0;34m)\u001b[0m\u001b[0;34m\u001b[0m\u001b[0;34m\u001b[0m\u001b[0m\n\u001b[0m\u001b[1;32m      2\u001b[0m \u001b[0mprint\u001b[0m\u001b[0;34m(\u001b[0m\u001b[0mK\u001b[0m\u001b[0;34m)\u001b[0m\u001b[0;34m\u001b[0m\u001b[0;34m\u001b[0m\u001b[0m\n",
      "\u001b[0;32m<ipython-input-1-73b219f20571>\u001b[0m in \u001b[0;36mdlqr\u001b[0;34m(A, B, Q, R)\u001b[0m\n\u001b[1;32m     10\u001b[0m     \"\"\"\n\u001b[1;32m     11\u001b[0m     \u001b[0;31m# first, solve the ricatti equation\u001b[0m\u001b[0;34m\u001b[0m\u001b[0;34m\u001b[0m\u001b[0;34m\u001b[0m\u001b[0m\n\u001b[0;32m---> 12\u001b[0;31m     \u001b[0mP\u001b[0m \u001b[0;34m=\u001b[0m \u001b[0mnp\u001b[0m\u001b[0;34m.\u001b[0m\u001b[0mmatrix\u001b[0m\u001b[0;34m(\u001b[0m\u001b[0mscipy\u001b[0m\u001b[0;34m.\u001b[0m\u001b[0mlinalg\u001b[0m\u001b[0;34m.\u001b[0m\u001b[0msolve_discrete_are\u001b[0m\u001b[0;34m(\u001b[0m\u001b[0mA\u001b[0m\u001b[0;34m,\u001b[0m \u001b[0mB\u001b[0m\u001b[0;34m,\u001b[0m \u001b[0mQ\u001b[0m\u001b[0;34m,\u001b[0m \u001b[0mR\u001b[0m\u001b[0;34m)\u001b[0m\u001b[0;34m)\u001b[0m\u001b[0;34m\u001b[0m\u001b[0;34m\u001b[0m\u001b[0m\n\u001b[0m\u001b[1;32m     13\u001b[0m     \u001b[0;31m# compute the LQR gain\u001b[0m\u001b[0;34m\u001b[0m\u001b[0;34m\u001b[0m\u001b[0;34m\u001b[0m\u001b[0m\n\u001b[1;32m     14\u001b[0m     \u001b[0mK\u001b[0m \u001b[0;34m=\u001b[0m \u001b[0mnp\u001b[0m\u001b[0;34m.\u001b[0m\u001b[0mmatrix\u001b[0m\u001b[0;34m(\u001b[0m\u001b[0mscipy\u001b[0m\u001b[0;34m.\u001b[0m\u001b[0mlinalg\u001b[0m\u001b[0;34m.\u001b[0m\u001b[0minv\u001b[0m\u001b[0;34m(\u001b[0m\u001b[0mB\u001b[0m\u001b[0;34m.\u001b[0m\u001b[0mT\u001b[0m\u001b[0;34m*\u001b[0m\u001b[0mP\u001b[0m\u001b[0;34m*\u001b[0m\u001b[0mB\u001b[0m\u001b[0;34m+\u001b[0m\u001b[0mR\u001b[0m\u001b[0;34m)\u001b[0m\u001b[0;34m*\u001b[0m\u001b[0;34m(\u001b[0m\u001b[0mB\u001b[0m\u001b[0;34m.\u001b[0m\u001b[0mT\u001b[0m\u001b[0;34m*\u001b[0m\u001b[0mP\u001b[0m\u001b[0;34m*\u001b[0m\u001b[0mA\u001b[0m\u001b[0;34m)\u001b[0m\u001b[0;34m)\u001b[0m\u001b[0;34m\u001b[0m\u001b[0;34m\u001b[0m\u001b[0m\n",
      "\u001b[0;32m/usr/local/lib/python3.8/dist-packages/scipy/linalg/_solvers.py\u001b[0m in \u001b[0;36msolve_discrete_are\u001b[0;34m(a, b, q, r, e, s, balanced)\u001b[0m\n\u001b[1;32m    709\u001b[0m \u001b[0;34m\u001b[0m\u001b[0m\n\u001b[1;32m    710\u001b[0m     \u001b[0;32mif\u001b[0m \u001b[0;36m1\u001b[0m\u001b[0;34m/\u001b[0m\u001b[0mcond\u001b[0m\u001b[0;34m(\u001b[0m\u001b[0muu\u001b[0m\u001b[0;34m)\u001b[0m \u001b[0;34m<\u001b[0m \u001b[0mnp\u001b[0m\u001b[0;34m.\u001b[0m\u001b[0mspacing\u001b[0m\u001b[0;34m(\u001b[0m\u001b[0;36m1.\u001b[0m\u001b[0;34m)\u001b[0m\u001b[0;34m:\u001b[0m\u001b[0;34m\u001b[0m\u001b[0;34m\u001b[0m\u001b[0m\n\u001b[0;32m--> 711\u001b[0;31m         \u001b[0;32mraise\u001b[0m \u001b[0mLinAlgError\u001b[0m\u001b[0;34m(\u001b[0m\u001b[0;34m'Failed to find a finite solution.'\u001b[0m\u001b[0;34m)\u001b[0m\u001b[0;34m\u001b[0m\u001b[0;34m\u001b[0m\u001b[0m\n\u001b[0m\u001b[1;32m    712\u001b[0m \u001b[0;34m\u001b[0m\u001b[0m\n\u001b[1;32m    713\u001b[0m     \u001b[0;31m# Exploit the triangular structure\u001b[0m\u001b[0;34m\u001b[0m\u001b[0;34m\u001b[0m\u001b[0;34m\u001b[0m\u001b[0m\n",
      "\u001b[0;31mLinAlgError\u001b[0m: Failed to find a finite solution."
     ]
    }
   ],
   "source": [
    "K = dlqr(A,B,Q,R)\n",
    "print(K)"
   ]
  },
  {
   "cell_type": "code",
   "execution_count": 5,
   "metadata": {
    "id": "zxzuWkpqJYZ-"
   },
   "outputs": [],
   "source": [
    "def dLQR(A, B, Q, R):\n",
    "    \"\"\"\n",
    "    Discrete-time linear quadratic regulator for a nonlinear system.\n",
    " \n",
    "    Compute the optimal control inputs given a nonlinear system, cost matrices, \n",
    "    current state, and a final state.\n",
    "     \n",
    "    Compute the control variables that minimize the cumulative cost.\n",
    " \n",
    "    Solve for P using the dynamic programming method.\n",
    " \n",
    "    :param actual_state_x: The current state of the system \n",
    "        3x1 NumPy Array given the state is [x,y,yaw angle] --->\n",
    "        [meters, meters, radians]\n",
    "    :param desired_state_xf: The desired state of the system\n",
    "        3x1 NumPy Array given the state is [x,y,yaw angle] --->\n",
    "        [meters, meters, radians]   \n",
    "    :param Q: The state cost matrix\n",
    "        3x3 NumPy Array\n",
    "    :param R: The input cost matrix\n",
    "        2x2 NumPy Array\n",
    "    :param dt: The size of the timestep in seconds -> float\n",
    " \n",
    "    :return: u_star: Optimal action u for the current state \n",
    "        2x1 NumPy Array given the control input vector is\n",
    "        [linear velocity of the car, angular velocity of the car]\n",
    "        [meters per second, radians per second]\n",
    "    \"\"\"\n",
    " \n",
    "\n",
    "    N = 50\n",
    " \n",
    "    # Create a list of N + 1 elements\n",
    "    P = [None] * (N + 1)\n",
    "     \n",
    "    Qf = Q\n",
    " \n",
    "    # LQR via Dynamic Programming\n",
    "    P[N] = Qf\n",
    " \n",
    "    # For i = N, ..., 1\n",
    "    for i in range(N, 0, -1):\n",
    " \n",
    "        # Discrete-time Algebraic Riccati equation to calculate the optimal \n",
    "        # state cost matrix\n",
    "        P[i-1] = Q + A.T @ P[i] @ A - (A.T @ P[i] @ B) @ np.linalg.pinv(\n",
    "            R + B.T @ P[i] @ B) @ (B.T @ P[i] @ A)   \n",
    "\n",
    "        # print(P[i-1])   \n",
    "\n",
    "    \n",
    "    # Create a list of N elements\n",
    "    K = [None] * N\n",
    "    u = [None] * N\n",
    "\n",
    "    P1 = P[N-1]\n",
    "    # K1 = np.matrix(scipy.linalg.inv(B.T*P1*B+R)*(B.T*P1*A))\n",
    "    # print('inner', K1)\n",
    "\n",
    "    # print('solution', B.T @ P[N] @ B + R)\n",
    "    # print(\"K\", -np.linalg.inv(R + B.T @ P[N] @ B) @ B.T @ P[N] @ A)\n",
    "    # # For i = 0, ..., N - 1\n",
    "    # for i in range(N):\n",
    " \n",
    "    #     # Calculate the optimal feedback gain K\n",
    "    #     print(B.T @ P[i+1] @ B + R)\n",
    "    #     K[i] = -np.linalg.inv(R + B.T @ P[i+1] @ B) @ B.T @ P[i+1] @ A\n",
    "\n",
    "    K1 = -np.linalg.inv(R + B.T @ P[N] @ B) @ B.T @ P[N] @ A\n",
    "    \n",
    "\n",
    "    return K1#K[N-1]"
   ]
  },
  {
   "cell_type": "code",
   "execution_count": 6,
   "metadata": {
    "colab": {
     "base_uri": "https://localhost:8080/"
    },
    "id": "ndfv25kUJi4D",
    "outputId": "8be2a39c-4355-4ecb-9821-675e1925e014"
   },
   "outputs": [
    {
     "name": "stdout",
     "output_type": "stream",
     "text": [
      "[[-3.33333333  0.          0.        ]\n",
      " [ 0.          0.         -5.        ]]\n"
     ]
    }
   ],
   "source": [
    "K = dLQR(A,B,Q,R)\n",
    "print(K)"
   ]
  },
  {
   "cell_type": "code",
   "execution_count": 8,
   "metadata": {
    "colab": {
     "base_uri": "https://localhost:8080/",
     "height": 531
    },
    "id": "_UXSRviXJpCr",
    "outputId": "f740bcb0-224a-45b8-fbb4-f6a770b132f9"
   },
   "outputs": [
    {
     "name": "stdout",
     "output_type": "stream",
     "text": [
      "error 0.4233549451359764\n"
     ]
    },
    {
     "data": {
      "image/png": "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\n",
      "text/plain": [
       "<Figure size 432x288 with 1 Axes>"
      ]
     },
     "metadata": {
      "needs_background": "light"
     },
     "output_type": "display_data"
    },
    {
     "data": {
      "image/png": "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\n",
      "text/plain": [
       "<Figure size 432x288 with 1 Axes>"
      ]
     },
     "metadata": {
      "needs_background": "light"
     },
     "output_type": "display_data"
    }
   ],
   "source": [
    "nsteps = 500\n",
    "time = np.linspace(0, 2, nsteps, endpoint=True)\n",
    "xd = np.matrix([[10], [20], [np.pi/2]])\n",
    "xk = np.matrix([[0], [0], [0]])\n",
    "dt = 0.5\n",
    "\n",
    "X = []\n",
    "Y = []\n",
    "T = []\n",
    "U = []\n",
    "errors = []\n",
    "for t in time:\n",
    "    xe = xk - xd\n",
    "    errors.append( np.linalg.norm(xe))\n",
    "\n",
    "    yaw = xk[2, 0]\n",
    "    B= getB(yaw, dt) \n",
    "    K = dLQR(A,B,Q,R)\n",
    "\n",
    "    uk = K*xe\n",
    "    X.append(xk[0, 0])\n",
    "    Y.append(xk[1, 0])\n",
    "\n",
    "    xk = A*xk + B*uk\n",
    "\n",
    "print('error', np.linalg.norm(xe))\n",
    "\n",
    "plt.plot(X, Y, label=\"car position, meters\")\n",
    "# plt.plot(time, T, label='pendulum angle, radians')\n",
    "# plt.plot(time, U, label='control voltage, decavolts')\n",
    "\n",
    "plt.legend(loc='upper right')\n",
    "plt.grid()\n",
    "plt.show()\n",
    "\n",
    "plt.plot(errors, label=\"error\")\n",
    "plt.grid()\n",
    "plt.show()"
   ]
  },
  {
   "cell_type": "code",
   "execution_count": 10,
   "metadata": {
    "id": "XrhUDPgPJre9"
   },
   "outputs": [],
   "source": [
    "# linear dynnamics\n",
    "\n",
    "dt = 0.05\n",
    "\n",
    "A = np.matrix([[1, 0],[0 , 1]])\n",
    "B = np.matrix([[dt, 0], [0, dt]])\n",
    "\n",
    "Q = np.matrix(\"1 0; 0 1\")\n",
    "R = np.matrix(\"0.01 0; 0 0.01\")\n",
    "\n",
    "Q = np.matrix(\"1 0; 0 1\")\n",
    "R = np.matrix(\"0.01 0; 0 0.01\")\n",
    "K = dlqr(A,B,Q,R)"
   ]
  },
  {
   "cell_type": "code",
   "execution_count": 13,
   "metadata": {
    "colab": {
     "base_uri": "https://localhost:8080/",
     "height": 513
    },
    "id": "kLKVyAtgJ5bA",
    "outputId": "7cd11d34-7063-48e9-8e7d-78eb740a6c77"
   },
   "outputs": [
    {
     "data": {
      "image/png": "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\n",
      "text/plain": [
       "<Figure size 432x288 with 1 Axes>"
      ]
     },
     "metadata": {
      "needs_background": "light"
     },
     "output_type": "display_data"
    },
    {
     "data": {
      "image/png": "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\n",
      "text/plain": [
       "<Figure size 432x288 with 1 Axes>"
      ]
     },
     "metadata": {
      "needs_background": "light"
     },
     "output_type": "display_data"
    }
   ],
   "source": [
    "nsteps = 250\n",
    "time = np.linspace(0, 2, nsteps, endpoint=True)\n",
    "xk = np.matrix(\"10; 20\")\n",
    "xd = xd = np.matrix(\"1; 5\")\n",
    "\n",
    "X = []\n",
    "Y = []\n",
    "T = []\n",
    "U = []\n",
    "errors = []\n",
    "for t in time:\n",
    "    xe = xk - xd\n",
    "    uk = K*xe\n",
    "    X.append(xk[0, 0])\n",
    "    Y.append(xk[1, 0])\n",
    "    errors.append( np.linalg.norm(xe))\n",
    "\n",
    "    xk = A*xk + B*uk\n",
    "\n",
    "plt.plot(X, Y, label=\"car position, meters\")\n",
    "plt.legend(loc='upper right')\n",
    "plt.grid()\n",
    "plt.show()\n",
    "\n",
    "\n",
    "plt.plot(errors, label=\"errors\")\n",
    "plt.legend(loc='upper right')\n",
    "plt.grid()\n",
    "plt.show()"
   ]
  },
  {
   "cell_type": "code",
   "execution_count": null,
   "metadata": {
    "id": "DDuQI3KkJ9dA"
   },
   "outputs": [],
   "source": []
  }
 ],
 "metadata": {
  "colab": {
   "authorship_tag": "ABX9TyMKYXriCAnN+6rCBfAlqOl4",
   "include_colab_link": true,
   "provenance": []
  },
  "kernelspec": {
   "display_name": "Python 3 (ipykernel)",
   "language": "python",
   "name": "python3"
  },
  "language_info": {
   "name": "python"
  }
 },
 "nbformat": 4,
 "nbformat_minor": 1
=======
  "cells": [
    {
      "cell_type": "markdown",
      "metadata": {
        "colab_type": "text",
        "id": "view-in-github"
      },
      "source": [
        "<a href=\"https://colab.research.google.com/github/mingyucai/LQR_CBF_rrtStar/blob/main/LQR_car_model.ipynb\" target=\"_parent\"><img src=\"https://colab.research.google.com/assets/colab-badge.svg\" alt=\"Open In Colab\"/></a>"
      ]
    },
    {
      "cell_type": "code",
      "execution_count": null,
      "metadata": {
        "id": "voVg2p7N0ki0"
      },
      "outputs": [],
      "source": [
        "# continuous LQR: https://github.com/stephentu/zero-to-cartpole/blob/master/swing-up.ipynb\n",
        "\n",
        "# iLQR: https://studywolf.wordpress.com/2016/02/03/the-iterative-linear-quadratic-regulator-method/\n",
        "# iLQR paper: https://homes.cs.washington.edu/~todorov/papers/TassaIROS12.pdf  implementation: https://github.com/anassinator/ilqr"
      ]
    },
    {
      "cell_type": "code",
      "execution_count": 5,
      "metadata": {
        "id": "UQKl-AqZJSfB"
      },
      "outputs": [],
      "source": [
        "import numpy as np\n",
        "import scipy.linalg\n",
        "import matplotlib.pyplot as plt\n",
        "\n",
        "def dlqr(A,B,Q,R):\n",
        "    \"\"\"\n",
        "    Solve the discrete time lqr controller.\n",
        "    x[k+1] = A x[k] + B u[k]\n",
        "    cost = sum x[k].T*Q*x[k] + u[k].T*R*u[k]\n",
        "    \"\"\"\n",
        "    # first, solve the ricatti equation\n",
        "    P = np.matrix(scipy.linalg.solve_discrete_are(A, B, Q, R))\n",
        "    # compute the LQR gain\n",
        "    K = np.matrix(scipy.linalg.inv(B.T*P*B+R)*(B.T*P*A))\n",
        "\n",
        "    eigVals, eigVecs = scipy.linalg.eig(A-B*K)\n",
        "    \n",
        "    return -K\n",
        "\n",
        "def lqr(A,B,Q,R):\n",
        "  X = np.matrix(scipy.linalg.solve_continuous_are(A, B, Q, R))\n",
        "  #compute the LQR gain\n",
        "  K = np.matrix(scipy.linalg.inv(R)*(B.T*X))\n",
        "\n",
        "  eigVals, eigVecs = scipy.linalg.eig(A-B*K)\n",
        "\n",
        "  return -K"
      ]
    },
    {
      "cell_type": "code",
      "execution_count": 6,
      "metadata": {
        "colab": {
          "base_uri": "https://localhost:8080/"
        },
        "id": "IeCykiSmJUPC",
        "outputId": "a722e113-e10c-4027-e36c-135c88029f3a"
      },
      "outputs": [
        {
          "name": "stdout",
          "output_type": "stream",
          "text": [
            "(3, 1)\n"
          ]
        }
      ],
      "source": [
        "def getB(yaw, dt):\n",
        "  B = np.matrix([[np.cos(yaw) * dt, 0], [np.sin(yaw) * dt, 0], [0, dt]])\n",
        "  return B\n",
        "\n",
        "A = np.matrix([[1.0, 0, 0],[0 , 1.0, 0], [0, 0, 1.0]])\n",
        "Q = np.matrix(\"0.5 0 0; 0 1 0; 0 0 1\")\n",
        "R = np.matrix(\"0.01 0; 0 0.01\")\n",
        "\n",
        "# print(xk[2, 0])\n",
        "# print(R)\n",
        "xd = np.matrix([[10], [20], [np.pi/2]])\n",
        "xk = np.matrix([[0], [0], [0]])\n",
        "print(xk.shape)\n",
        "dt = 0.1\n",
        "yaw = xk[2, 0]\n",
        "B= getB(yaw, dt)\n",
        "\n",
        "# Optional Variables\n",
        "max_linear_velocity = 3.0 # meters per second\n",
        "max_angular_velocity = 1.5708 # radians per second\n",
        "# xe = xk - xd\n",
        "# K = dlqr(A,B,Q,R)\n",
        "# uk = K*xe\n",
        "# print(uk)z\n",
        "# print(uk)"
      ]
    },
    {
      "cell_type": "code",
      "execution_count": 4,
      "metadata": {
        "colab": {
          "base_uri": "https://localhost:8080/",
          "height": 344
        },
        "id": "amMjY4l8JWL7",
        "outputId": "660ffddb-a925-46ef-d1d2-cf04f3a29238"
      },
      "outputs": [
        {
          "ename": "LinAlgError",
          "evalue": "Failed to find a finite solution.",
          "output_type": "error",
          "traceback": [
            "\u001b[0;31m---------------------------------------------------------------------------\u001b[0m",
            "\u001b[0;31mLinAlgError\u001b[0m                               Traceback (most recent call last)",
            "\u001b[0;32m/tmp/ipykernel_140248/574807250.py\u001b[0m in \u001b[0;36m<module>\u001b[0;34m\u001b[0m\n\u001b[0;32m----> 1\u001b[0;31m \u001b[0mK\u001b[0m \u001b[0;34m=\u001b[0m \u001b[0mdlqr\u001b[0m\u001b[0;34m(\u001b[0m\u001b[0mA\u001b[0m\u001b[0;34m,\u001b[0m\u001b[0mB\u001b[0m\u001b[0;34m,\u001b[0m\u001b[0mQ\u001b[0m\u001b[0;34m,\u001b[0m\u001b[0mR\u001b[0m\u001b[0;34m)\u001b[0m\u001b[0;34m\u001b[0m\u001b[0;34m\u001b[0m\u001b[0m\n\u001b[0m\u001b[1;32m      2\u001b[0m \u001b[0mprint\u001b[0m\u001b[0;34m(\u001b[0m\u001b[0mK\u001b[0m\u001b[0;34m)\u001b[0m\u001b[0;34m\u001b[0m\u001b[0;34m\u001b[0m\u001b[0m\n",
            "\u001b[0;32m/tmp/ipykernel_140248/3193166868.py\u001b[0m in \u001b[0;36mdlqr\u001b[0;34m(A, B, Q, R)\u001b[0m\n\u001b[1;32m     10\u001b[0m     \"\"\"\n\u001b[1;32m     11\u001b[0m     \u001b[0;31m# first, solve the ricatti equation\u001b[0m\u001b[0;34m\u001b[0m\u001b[0;34m\u001b[0m\u001b[0;34m\u001b[0m\u001b[0m\n\u001b[0;32m---> 12\u001b[0;31m     \u001b[0mP\u001b[0m \u001b[0;34m=\u001b[0m \u001b[0mnp\u001b[0m\u001b[0;34m.\u001b[0m\u001b[0mmatrix\u001b[0m\u001b[0;34m(\u001b[0m\u001b[0mscipy\u001b[0m\u001b[0;34m.\u001b[0m\u001b[0mlinalg\u001b[0m\u001b[0;34m.\u001b[0m\u001b[0msolve_discrete_are\u001b[0m\u001b[0;34m(\u001b[0m\u001b[0mA\u001b[0m\u001b[0;34m,\u001b[0m \u001b[0mB\u001b[0m\u001b[0;34m,\u001b[0m \u001b[0mQ\u001b[0m\u001b[0;34m,\u001b[0m \u001b[0mR\u001b[0m\u001b[0;34m)\u001b[0m\u001b[0;34m)\u001b[0m\u001b[0;34m\u001b[0m\u001b[0;34m\u001b[0m\u001b[0m\n\u001b[0m\u001b[1;32m     13\u001b[0m     \u001b[0;31m# compute the LQR gain\u001b[0m\u001b[0;34m\u001b[0m\u001b[0;34m\u001b[0m\u001b[0;34m\u001b[0m\u001b[0m\n\u001b[1;32m     14\u001b[0m     \u001b[0mK\u001b[0m \u001b[0;34m=\u001b[0m \u001b[0mnp\u001b[0m\u001b[0;34m.\u001b[0m\u001b[0mmatrix\u001b[0m\u001b[0;34m(\u001b[0m\u001b[0mscipy\u001b[0m\u001b[0;34m.\u001b[0m\u001b[0mlinalg\u001b[0m\u001b[0;34m.\u001b[0m\u001b[0minv\u001b[0m\u001b[0;34m(\u001b[0m\u001b[0mB\u001b[0m\u001b[0;34m.\u001b[0m\u001b[0mT\u001b[0m\u001b[0;34m*\u001b[0m\u001b[0mP\u001b[0m\u001b[0;34m*\u001b[0m\u001b[0mB\u001b[0m\u001b[0;34m+\u001b[0m\u001b[0mR\u001b[0m\u001b[0;34m)\u001b[0m\u001b[0;34m*\u001b[0m\u001b[0;34m(\u001b[0m\u001b[0mB\u001b[0m\u001b[0;34m.\u001b[0m\u001b[0mT\u001b[0m\u001b[0;34m*\u001b[0m\u001b[0mP\u001b[0m\u001b[0;34m*\u001b[0m\u001b[0mA\u001b[0m\u001b[0;34m)\u001b[0m\u001b[0;34m)\u001b[0m\u001b[0;34m\u001b[0m\u001b[0;34m\u001b[0m\u001b[0m\n",
            "\u001b[0;32m~/anaconda3/lib/python3.7/site-packages/scipy/linalg/_solvers.py\u001b[0m in \u001b[0;36msolve_discrete_are\u001b[0;34m(a, b, q, r, e, s, balanced)\u001b[0m\n\u001b[1;32m    709\u001b[0m \u001b[0;34m\u001b[0m\u001b[0m\n\u001b[1;32m    710\u001b[0m     \u001b[0;32mif\u001b[0m \u001b[0;36m1\u001b[0m\u001b[0;34m/\u001b[0m\u001b[0mcond\u001b[0m\u001b[0;34m(\u001b[0m\u001b[0muu\u001b[0m\u001b[0;34m)\u001b[0m \u001b[0;34m<\u001b[0m \u001b[0mnp\u001b[0m\u001b[0;34m.\u001b[0m\u001b[0mspacing\u001b[0m\u001b[0;34m(\u001b[0m\u001b[0;36m1.\u001b[0m\u001b[0;34m)\u001b[0m\u001b[0;34m:\u001b[0m\u001b[0;34m\u001b[0m\u001b[0;34m\u001b[0m\u001b[0m\n\u001b[0;32m--> 711\u001b[0;31m         \u001b[0;32mraise\u001b[0m \u001b[0mLinAlgError\u001b[0m\u001b[0;34m(\u001b[0m\u001b[0;34m'Failed to find a finite solution.'\u001b[0m\u001b[0;34m)\u001b[0m\u001b[0;34m\u001b[0m\u001b[0;34m\u001b[0m\u001b[0m\n\u001b[0m\u001b[1;32m    712\u001b[0m \u001b[0;34m\u001b[0m\u001b[0m\n\u001b[1;32m    713\u001b[0m     \u001b[0;31m# Exploit the triangular structure\u001b[0m\u001b[0;34m\u001b[0m\u001b[0;34m\u001b[0m\u001b[0;34m\u001b[0m\u001b[0m\n",
            "\u001b[0;31mLinAlgError\u001b[0m: Failed to find a finite solution."
          ]
        }
      ],
      "source": [
        "K = dlqr(A,B,Q,R)\n",
        "print(K)"
      ]
    },
    {
      "cell_type": "code",
      "execution_count": 7,
      "metadata": {
        "id": "zxzuWkpqJYZ-"
      },
      "outputs": [],
      "source": [
        "def dLQR(A, B, Q, R):\n",
        "    \"\"\"\n",
        "    Discrete-time linear quadratic regulator for a nonlinear system.\n",
        " \n",
        "    Compute the optimal control inputs given a nonlinear system, cost matrices, \n",
        "    current state, and a final state.\n",
        "     \n",
        "    Compute the control variables that minimize the cumulative cost.\n",
        " \n",
        "    Solve for P using the dynamic programming method.\n",
        " \n",
        "    :param actual_state_x: The current state of the system \n",
        "        3x1 NumPy Array given the state is [x,y,yaw angle] --->\n",
        "        [meters, meters, radians]\n",
        "    :param desired_state_xf: The desired state of the system\n",
        "        3x1 NumPy Array given the state is [x,y,yaw angle] --->\n",
        "        [meters, meters, radians]   \n",
        "    :param Q: The state cost matrix\n",
        "        3x3 NumPy Array\n",
        "    :param R: The input cost matrix\n",
        "        2x2 NumPy Array\n",
        "    :param dt: The size of the timestep in seconds -> float\n",
        " \n",
        "    :return: u_star: Optimal action u for the current state \n",
        "        2x1 NumPy Array given the control input vector is\n",
        "        [linear velocity of the car, angular velocity of the car]\n",
        "        [meters per second, radians per second]\n",
        "    \"\"\"\n",
        " \n",
        "\n",
        "    N = 50\n",
        " \n",
        "    # Create a list of N + 1 elements\n",
        "    P = [None] * (N + 1)\n",
        "     \n",
        "    Qf = Q\n",
        " \n",
        "    # LQR via Dynamic Programming\n",
        "    P[N] = Qf\n",
        " \n",
        "    # For i = N, ..., 1\n",
        "    for i in range(N, 0, -1):\n",
        " \n",
        "        # Discrete-time Algebraic Riccati equation to calculate the optimal \n",
        "        # state cost matrix\n",
        "        P[i-1] = Q + A.T @ P[i] @ A - (A.T @ P[i] @ B) @ np.linalg.pinv(\n",
        "            R + B.T @ P[i] @ B) @ (B.T @ P[i] @ A)   \n",
        "\n",
        "        # print(P[i-1])   \n",
        "\n",
        "    \n",
        "    # Create a list of N elements\n",
        "    K = [None] * N\n",
        "    u = [None] * N\n",
        "\n",
        "    P1 = P[N-1]\n",
        "    # K1 = np.matrix(scipy.linalg.inv(B.T*P1*B+R)*(B.T*P1*A))\n",
        "    # print('inner', K1)\n",
        "\n",
        "    # print('solution', B.T @ P[N] @ B + R)\n",
        "    # print(\"K\", -np.linalg.inv(R + B.T @ P[N] @ B) @ B.T @ P[N] @ A)\n",
        "    # # For i = 0, ..., N - 1\n",
        "    # for i in range(N):\n",
        " \n",
        "    #     # Calculate the optimal feedback gain K\n",
        "    #     print(B.T @ P[i+1] @ B + R)\n",
        "    #     K[i] = -np.linalg.inv(R + B.T @ P[i+1] @ B) @ B.T @ P[i+1] @ A\n",
        "\n",
        "    K1 = -np.linalg.inv(R + B.T @ P[N] @ B) @ B.T @ P[N] @ A\n",
        "    \n",
        "\n",
        "    return K1#K[N-1]"
      ]
    },
    {
      "cell_type": "code",
      "execution_count": 6,
      "metadata": {
        "colab": {
          "base_uri": "https://localhost:8080/"
        },
        "id": "ndfv25kUJi4D",
        "outputId": "8be2a39c-4355-4ecb-9821-675e1925e014"
      },
      "outputs": [
        {
          "name": "stdout",
          "output_type": "stream",
          "text": [
            "[[-3.33333333  0.          0.        ]\n",
            " [ 0.          0.         -5.        ]]\n"
          ]
        }
      ],
      "source": [
        "K = dLQR(A,B,Q,R)\n",
        "print(K)"
      ]
    },
    {
      "cell_type": "code",
      "execution_count": 7,
      "metadata": {},
      "outputs": [
        {
          "name": "stdout",
          "output_type": "stream",
          "text": [
            "(3, 1)\n"
          ]
        }
      ],
      "source": [
        "def getB(yaw, dt):\n",
        "  B = np.matrix([[np.cos(yaw) * dt, 0], [np.sin(yaw) * dt, 0], [0, dt]])\n",
        "  return B\n",
        "\n",
        "A = np.matrix([[1.0, 0, 0],[0 , 1.0, 0], [0, 0, 1.0]])\n",
        "Q = np.matrix(\"0.5 0 0; 0 0.5 0; 0 0 0.01\")\n",
        "R = np.matrix(\"0.01 0; 0 0.01\")\n",
        "\n",
        "# print(xk[2, 0])\n",
        "# print(R)\n",
        "xd = np.matrix([[10], [20], [np.pi/2]])\n",
        "xk = np.matrix([[0], [0], [0]])\n",
        "print(xk.shape)\n",
        "dt = 0.1\n",
        "yaw = xk[2, 0]\n",
        "B= getB(yaw, dt)\n",
        "\n",
        "# Optional Variables\n",
        "max_linear_velocity = 3.0 # meters per second\n",
        "max_angular_velocity = 1.5708 # radians per second"
      ]
    },
    {
      "cell_type": "code",
      "execution_count": 8,
      "metadata": {
        "colab": {
          "base_uri": "https://localhost:8080/",
          "height": 531
        },
        "id": "_UXSRviXJpCr",
        "outputId": "f740bcb0-224a-45b8-fbb4-f6a770b132f9"
      },
      "outputs": [
        {
          "name": "stdout",
          "output_type": "stream",
          "text": [
            "[[-4.90969223e-06]\n",
            " [ 1.12095772e-05]]\n",
            "[[1.40119715e-05 0.00000000e+00]\n",
            " [5.00000000e-01 0.00000000e+00]\n",
            " [0.00000000e+00 5.00000000e-01]]\n",
            "[[ 9.65661517]\n",
            " [20.00000982]\n",
            " [ 1.57077391]] [[10.        ]\n",
            " [20.        ]\n",
            " [ 1.57079633]]\n",
            "error 0.34338482749855587\n"
          ]
        },
        {
          "data": {
            "image/png": "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",
            "text/plain": [
              "<Figure size 432x288 with 1 Axes>"
            ]
          },
          "metadata": {
            "needs_background": "light"
          },
          "output_type": "display_data"
        },
        {
          "data": {
            "image/png": "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",
            "text/plain": [
              "<Figure size 432x288 with 1 Axes>"
            ]
          },
          "metadata": {
            "needs_background": "light"
          },
          "output_type": "display_data"
        }
      ],
      "source": [
        "nsteps = 50\n",
        "time = np.linspace(0, 2, nsteps, endpoint=True)\n",
        "xd = np.matrix([[10], [20], [np.pi/2]])\n",
        "xk = np.matrix([[0], [0], [0]])\n",
        "dt = 0.5\n",
        "\n",
        "X = []\n",
        "Y = []\n",
        "T = []\n",
        "U = []\n",
        "errors = []\n",
        "max_linear_velocity = 3.0 # meters per second\n",
        "max_angular_velocity = 1.5708 # radians per second\n",
        "\n",
        "for t in time:\n",
        "    xe = xk - xd\n",
        "    errors.append( np.linalg.norm(xe))\n",
        "\n",
        "    yaw = xk[2, 0]\n",
        "    B= getB(yaw, dt) \n",
        "    K = dLQR(A,B,Q,R)\n",
        "\n",
        "    uk = K*xe\n",
        "    # clip does not work for X axis\n",
        "    uk = np.clip(uk, -max_linear_velocity, max_linear_velocity)\n",
        "\n",
        "    X.append(xk[0, 0])\n",
        "    Y.append(xk[1, 0])\n",
        "\n",
        "    xk = A*xk + B*uk\n",
        "\n",
        "print(uk)\n",
        "print(B)\n",
        "print(xk, xd)\n",
        "print('error', np.linalg.norm(xe))\n",
        "\n",
        "plt.plot(X, Y, label=\"car position, meters\")\n",
        "# plt.plot(time, T, label='pendulum angle, radians')\n",
        "# plt.plot(time, U, label='control voltage, decavolts')\n",
        "\n",
        "plt.legend(loc='upper right')\n",
        "plt.grid()\n",
        "plt.show()\n",
        "\n",
        "plt.plot(errors, label=\"error\")\n",
        "plt.grid()\n",
        "plt.show()"
      ]
    },
    {
      "cell_type": "code",
      "execution_count": 9,
      "metadata": {
        "id": "XrhUDPgPJre9"
      },
      "outputs": [],
      "source": [
        "# linear dynnamics\n",
        "\n",
        "dt = 0.05\n",
        "\n",
        "A = np.matrix([[1, 0],[0 , 1]])\n",
        "B = np.matrix([[dt, 0], [0, dt]])\n",
        "\n",
        "Q = np.matrix(\"1 0; 0 1\")\n",
        "R = np.matrix(\"0.01 0; 0 0.01\")\n",
        "\n",
        "Q = np.matrix(\"1 0; 0 1\")\n",
        "R = np.matrix(\"0.01 0; 0 0.01\")\n",
        "K = dlqr(A,B,Q,R)"
      ]
    },
    {
      "cell_type": "code",
      "execution_count": 10,
      "metadata": {
        "colab": {
          "base_uri": "https://localhost:8080/",
          "height": 513
        },
        "id": "kLKVyAtgJ5bA",
        "outputId": "7cd11d34-7063-48e9-8e7d-78eb740a6c77"
      },
      "outputs": [
        {
          "name": "stdout",
          "output_type": "stream",
          "text": [
            "error 9.155133597044475e-16\n"
          ]
        },
        {
          "data": {
            "image/png": "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",
            "text/plain": [
              "<Figure size 432x288 with 1 Axes>"
            ]
          },
          "metadata": {
            "needs_background": "light"
          },
          "output_type": "display_data"
        },
        {
          "data": {
            "image/png": "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",
            "text/plain": [
              "<Figure size 432x288 with 1 Axes>"
            ]
          },
          "metadata": {
            "needs_background": "light"
          },
          "output_type": "display_data"
        }
      ],
      "source": [
        "nsteps = 250\n",
        "time = np.linspace(0, 2, nsteps, endpoint=True)\n",
        "xk = np.matrix(\"10; 20\")\n",
        "xd = xd = np.matrix(\"1; 5\")\n",
        "max_speed = 3.0\n",
        "\n",
        "X = []\n",
        "Y = []\n",
        "T = []\n",
        "U = []\n",
        "errors = []\n",
        "for t in time:\n",
        "    xe = xk - xd\n",
        "    uk = K*xe\n",
        "\n",
        "    # clip the control based on acuator limitation\n",
        "    uk = np.clip(uk, -max_speed, max_speed)\n",
        "\n",
        "    # check the condition of control limitation\n",
        "    assert abs(uk[1, 0]) <= 3.0 or abs(uk[0, 0]) <= 3.0, \"control inputs execeed limitation'\"\n",
        "    \n",
        "    X.append(xk[0, 0])\n",
        "    Y.append(xk[1, 0])\n",
        "    errors.append( np.linalg.norm(xe))\n",
        "\n",
        "    xk = A*xk + B*uk\n",
        "    \n",
        "print('error', np.linalg.norm(xe))\n",
        "plt.plot(X, Y, label=\"car position, meters\")\n",
        "plt.legend(loc='upper right')\n",
        "plt.grid()\n",
        "plt.show()\n",
        "\n",
        "\n",
        "plt.plot(errors, label=\"errors\")\n",
        "plt.legend(loc='upper right')\n",
        "plt.grid()\n",
        "plt.show()"
      ]
    },
    {
      "cell_type": "code",
      "execution_count": 11,
      "metadata": {
        "id": "DDuQI3KkJ9dA"
      },
      "outputs": [
        {
          "name": "stdout",
          "output_type": "stream",
          "text": [
            "(4, 4)\n",
            "(4, 2)\n",
            "(2, 2)\n",
            "[[-8.72031057 -0.         -5.22725224 -0.        ]\n",
            " [-0.         -8.72031057 -0.         -5.22725224]]\n"
          ]
        }
      ],
      "source": [
        "# /home/mingyucai/git/LQR_CBF_rrtStar/~/anaconda3/lib/python3.7/site-packages/numpy/matrixlib/defmatrix.py\n",
        "\n",
        "# linear dynnamics (acceleration)\n",
        "\n",
        "dt = 0.05\n",
        "\n",
        "A = np.matrix([[1, 0, dt, 0],[0 , 1, 0, dt], [0, 0, 1, 0], [0, 0, 0, 1]])\n",
        "\n",
        "print(A.shape)\n",
        "\n",
        "B = np.matrix([[0, 0], [0, 0], [dt, 0], [0, dt]])\n",
        "\n",
        "print(B.shape)\n",
        "\n",
        "Q = np.matrix(\"1 0 0 0; 0 1 0 0; 0 0 0.1 0; 0 0 0 0.1\")\n",
        "print(R.shape)\n",
        "R = np.matrix(\"0.01 0; 0 0.01\")\n",
        "\n",
        "K = dlqr(A,B,Q,R)\n",
        "\n",
        "print(K)\n"
      ]
    },
    {
      "cell_type": "code",
      "execution_count": 12,
      "metadata": {},
      "outputs": [
        {
          "name": "stdout",
          "output_type": "stream",
          "text": [
            "error 9.772254496625198e-15\n"
          ]
        },
        {
          "data": {
            "image/png": "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",
            "text/plain": [
              "<Figure size 432x288 with 1 Axes>"
            ]
          },
          "metadata": {
            "needs_background": "light"
          },
          "output_type": "display_data"
        },
        {
          "data": {
            "image/png": "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",
            "text/plain": [
              "<Figure size 432x288 with 1 Axes>"
            ]
          },
          "metadata": {
            "needs_background": "light"
          },
          "output_type": "display_data"
        }
      ],
      "source": [
        "nsteps = 500\n",
        "time = np.linspace(0, 2, nsteps, endpoint=True)\n",
        "xk = np.matrix(\"5; 5; 0; 0\")\n",
        "xd = xd = np.matrix(\"10; 20; 0; 0\")\n",
        "\n",
        "X = []\n",
        "Y = []\n",
        "T = []\n",
        "U = []\n",
        "errors = []\n",
        "for t in time:\n",
        "    xe = xk - xd\n",
        "    uk = K*xe\n",
        "    uk = np.clip(uk, -3.0, 3.0)\n",
        "\n",
        "    X.append(xk[0, 0])\n",
        "    Y.append(xk[1, 0])\n",
        "    errors.append( np.linalg.norm(xe))\n",
        "\n",
        "    xk = A*xk + B*uk\n",
        "\n",
        "print('error', np.linalg.norm(xe))\n",
        "\n",
        "plt.plot(X, Y, label=\"car position, meters\")\n",
        "plt.legend(loc='upper right')\n",
        "plt.grid()\n",
        "plt.show()\n",
        "\n",
        "\n",
        "plt.plot(errors, label=\"errors\")\n",
        "plt.legend(loc='upper right')\n",
        "plt.grid()\n",
        "plt.show()"
      ]
    },
    {
      "cell_type": "code",
      "execution_count": 2,
      "metadata": {},
      "outputs": [],
      "source": [
        "# nonlinear dynamic system\n",
        "\n",
        "# System Modeling\n",
        "import numpy as np\n",
        "from scipy.integrate import odeint\n",
        "from scipy.interpolate import interp1d\n",
        "import cvxpy as cp\n",
        "\n",
        "import matplotlib.pyplot as plt\n",
        "\n",
        "# plt.style.use(\"ggplot\")\n",
        "\n",
        "import time\n",
        "\n",
        "\"\"\"\n",
        "Control problem statement.\n",
        "\"\"\"\n",
        "\n",
        "N = 3  # number of state variables\n",
        "M = 2  # number of control variables\n",
        "T = 20  # Prediction Horizon\n",
        "DT = 0.2  # discretization step\n",
        "\n",
        "def get_linear_model(x_bar, u_bar):\n",
        "    \"\"\"\n",
        "    Computes the LTI approximated state space model x' = Ax + Bu + C\n",
        "    \"\"\"\n",
        "\n",
        "\n",
        "    x = x_bar[0]\n",
        "    y = x_bar[1]\n",
        "    theta = x_bar[2]\n",
        "\n",
        "    v = u_bar[0]\n",
        "    yaw = u_bar[1]\n",
        "\n",
        "    A = np.zeros((N, N))\n",
        "    A[0, 2] = -v * np.sin(theta)\n",
        "    A[1, 2] = v * np.sin(theta)\n",
        "    A_lin = np.eye(N) + DT * A\n",
        "\n",
        "    B = np.zeros((N, M))\n",
        "    B[0, 0] = np.cos(theta)\n",
        "    B[1, 1] = np.sin(theta)\n",
        "    B[2, 1] = 1\n",
        "    B_lin = DT * B\n",
        "\n",
        "    f_xu = np.array(\n",
        "        [v * np.cos(theta), v * np.sin(theta), theta]\n",
        "    ).reshape(N, 1)\n",
        "    C_lin = DT * (\n",
        "        f_xu - np.dot(A, x_bar.reshape(N, 1)) - np.dot(B, u_bar.reshape(M, 1))\n",
        "    )\n",
        "\n",
        "    return np.round(A_lin, 4), np.round(B_lin, 4), np.round(C_lin, 4)"
      ]
    },
    {
      "cell_type": "code",
      "execution_count": 17,
      "metadata": {},
      "outputs": [
        {
          "name": "stdout",
          "output_type": "stream",
          "text": [
            "(3, 1) (2, 1)\n",
            "[[1. 0. 0.]\n",
            " [0. 1. 0.]\n",
            " [0. 0. 1.]]\n",
            "[[0.1414 0.    ]\n",
            " [0.     0.1414]\n",
            " [0.     0.2   ]]\n",
            "[[0.    ]\n",
            " [0.    ]\n",
            " [0.1571]]\n",
            "[[-3.53553387  0.          0.        ]\n",
            " [ 0.         -4.65224012 -0.06580255]]\n",
            "0.7853981633974483\n"
          ]
        }
      ],
      "source": [
        "xd = np.matrix([[5], [10], [np.pi/4]])\n",
        "ud = np.matrix([[0], [0]])\n",
        "print(xd.shape, ud.shape)\n",
        "\n",
        "A, B, C = get_linear_model(xd, ud)\n",
        "print(A)\n",
        "print(B)\n",
        "print(C)\n",
        "\n",
        "Q = np.matrix(\"0.5 0 0; 0 1 0; 0 0 0.01\")\n",
        "R = np.matrix(\"0.01 0; 0 0.01\")\n",
        "K = dLQR(A,B,Q,R)\n",
        "\n",
        "print(K)\n",
        "print(np.pi/4)"
      ]
    },
    {
      "cell_type": "code",
      "execution_count": 23,
      "metadata": {},
      "outputs": [
        {
          "name": "stdout",
          "output_type": "stream",
          "text": [
            "error 0.43733637235626693\n",
            "[[ 4.68731118]\n",
            " [ 9.69424061]\n",
            " [14.34019719]]\n"
          ]
        },
        {
          "data": {
            "image/png": "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",
            "text/plain": [
              "<Figure size 432x288 with 1 Axes>"
            ]
          },
          "metadata": {
            "needs_background": "light"
          },
          "output_type": "display_data"
        },
        {
          "data": {
            "image/png": "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",
            "text/plain": [
              "<Figure size 432x288 with 1 Axes>"
            ]
          },
          "metadata": {
            "needs_background": "light"
          },
          "output_type": "display_data"
        }
      ],
      "source": [
        "nsteps = 500\n",
        "time = np.linspace(0, 2, nsteps, endpoint=True)\n",
        "# xd = np.matrix([[10], [20], [np.pi/2]])\n",
        "xk = np.matrix([[0], [0], [0]])\n",
        "dt = 0.5\n",
        "\n",
        "# max_linear_velocity = 3.0 # meters per second\n",
        "# max_angular_velocity = 1.5708 # radians per second\n",
        "\n",
        "\n",
        "X = []\n",
        "Y = []\n",
        "T = []\n",
        "U = []\n",
        "errors = []\n",
        "for t in time:\n",
        "    xe = xk - xd\n",
        "    errors.append( np.linalg.norm(xe[0:2]))\n",
        "\n",
        "    # yaw = xk[2, 0]\n",
        "    # B= getB(yaw, dt) \n",
        "    # K = dLQR(A,B,Q,R)\n",
        "\n",
        "    uk = K*xe\n",
        "    # uk[0] = np.clip(uk[0], -max_linear_velocity, max_linear_velocity)\n",
        "    # uk[1] = np.clip(uk[1], -max_angular_velocity, max_angular_velocity)\n",
        "    if np.linalg.norm(xe[0:2]) < 0.5:\n",
        "      break\n",
        "\n",
        "    X.append(xk[0, 0])\n",
        "    Y.append(xk[1, 0])\n",
        "\n",
        "    xk = A*xk + B*uk + C\n",
        "\n",
        "print('error', np.linalg.norm(xe[0:2]))\n",
        "\n",
        "print(xk)\n",
        "plt.plot(X, Y, label=\"car position, meters\")\n",
        "# plt.plot(time, T, label='pendulum angle, radians')\n",
        "# plt.plot(time, U, label='control voltage, decavolts')\n",
        "\n",
        "plt.legend(loc='upper right')\n",
        "plt.grid()\n",
        "plt.show()\n",
        "\n",
        "plt.plot(errors, label=\"error\")\n",
        "plt.grid()\n",
        "plt.show()"
      ]
    },
    {
      "cell_type": "code",
      "execution_count": null,
      "metadata": {},
      "outputs": [],
      "source": []
    }
  ],
  "metadata": {
    "colab": {
      "authorship_tag": "ABX9TyMKYXriCAnN+6rCBfAlqOl4",
      "include_colab_link": true,
      "provenance": []
    },
    "kernelspec": {
      "display_name": "Python 3",
      "name": "python3"
    },
    "language_info": {
      "codemirror_mode": {
        "name": "ipython",
        "version": 3
      },
      "file_extension": ".py",
      "mimetype": "text/x-python",
      "name": "python",
      "nbconvert_exporter": "python",
      "pygments_lexer": "ipython3",
      "version": "3.7.10"
    }
  },
  "nbformat": 4,
  "nbformat_minor": 0
}
