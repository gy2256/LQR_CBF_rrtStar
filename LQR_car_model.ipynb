{
  "cells": [
    {
      "cell_type": "markdown",
      "metadata": {
        "colab_type": "text",
        "id": "view-in-github"
      },
      "source": [
        "<a href=\"https://colab.research.google.com/github/mingyucai/LQR_CBF_rrtStar/blob/main/LQR_car_model.ipynb\" target=\"_parent\"><img src=\"https://colab.research.google.com/assets/colab-badge.svg\" alt=\"Open In Colab\"/></a>"
      ]
    },
    {
      "cell_type": "code",
      "execution_count": null,
      "metadata": {
        "id": "voVg2p7N0ki0"
      },
      "outputs": [],
      "source": [
        "# continuous LQR: https://github.com/stephentu/zero-to-cartpole/blob/master/swing-up.ipynb\n",
        "\n",
        "# iLQR: https://studywolf.wordpress.com/2016/02/03/the-iterative-linear-quadratic-regulator-method/\n",
        "# iLQR paper: https://homes.cs.washington.edu/~todorov/papers/TassaIROS12.pdf  implementation: https://github.com/anassinator/ilqr"
      ]
    },
    {
      "cell_type": "code",
      "execution_count": 6,
      "metadata": {
        "id": "UQKl-AqZJSfB"
      },
      "outputs": [],
      "source": [
        "import numpy as np\n",
        "import scipy.linalg\n",
        "import matplotlib.pyplot as plt\n",
        "\n",
        "def dlqr(A,B,Q,R):\n",
        "    \"\"\"\n",
        "    Solve the discrete time lqr controller.\n",
        "    x[k+1] = A x[k] + B u[k]\n",
        "    cost = sum x[k].T*Q*x[k] + u[k].T*R*u[k]\n",
        "    \"\"\"\n",
        "    # first, solve the ricatti equation\n",
        "    P = np.matrix(scipy.linalg.solve_discrete_are(A, B, Q, R))\n",
        "    # compute the LQR gain\n",
        "    K = np.matrix(scipy.linalg.inv(B.T*P*B+R)*(B.T*P*A))\n",
        "\n",
        "    eigVals, eigVecs = scipy.linalg.eig(A-B*K)\n",
        "    \n",
        "    return -K\n",
        "\n",
        "def lqr(A,B,Q,R):\n",
        "  X = np.matrix(scipy.linalg.solve_continuous_are(A, B, Q, R))\n",
        "  #compute the LQR gain\n",
        "  K = np.matrix(scipy.linalg.inv(R)*(B.T*X))\n",
        "\n",
        "  eigVals, eigVecs = scipy.linalg.eig(A-B*K)\n",
        "\n",
        "  return -K"
      ]
    },
    {
      "cell_type": "code",
      "execution_count": 7,
      "metadata": {
        "colab": {
          "base_uri": "https://localhost:8080/"
        },
        "id": "IeCykiSmJUPC",
        "outputId": "a722e113-e10c-4027-e36c-135c88029f3a"
      },
      "outputs": [
        {
          "name": "stdout",
          "output_type": "stream",
          "text": [
            "(3, 1)\n"
          ]
        }
      ],
      "source": [
        "def getB(yaw, dt):\n",
        "  B = np.matrix([[np.cos(yaw) * dt, 0], [np.sin(yaw) * dt, 0], [0, dt]])\n",
        "  return B\n",
        "\n",
        "A = np.matrix([[1.0, 0, 0],[0 , 1.0, 0], [0, 0, 1.0]])\n",
        "Q = np.matrix(\"0.5 0 0; 0 1 0; 0 0 1\")\n",
        "R = np.matrix(\"0.01 0; 0 0.01\")\n",
        "\n",
        "# print(xk[2, 0])\n",
        "# print(R)\n",
        "xd = np.matrix([[10], [20], [np.pi/2]])\n",
        "xk = np.matrix([[0], [0], [0]])\n",
        "print(xk.shape)\n",
        "dt = 0.1\n",
        "yaw = xk[2, 0]\n",
        "B= getB(yaw, dt)\n",
        "\n",
        "# Optional Variables\n",
        "max_linear_velocity = 3.0 # meters per second\n",
        "max_angular_velocity = 1.5708 # radians per second\n"
      ]
    },
    {
      "cell_type": "code",
      "execution_count": 8,
      "metadata": {
        "id": "zxzuWkpqJYZ-"
      },
      "outputs": [],
      "source": [
        "def dLQR(A, B, Q, R):\n",
        "    \n",
        "    N = 50\n",
        " \n",
        "    # Create a list of N + 1 elements\n",
        "    P = [None] * (N + 1)\n",
        "     \n",
        "    Qf = Q\n",
        " \n",
        "    # LQR via Dynamic Programming\n",
        "    P[N] = Qf\n",
        " \n",
        "    # For i = N, ..., 1\n",
        "    for i in range(N, 0, -1):\n",
        "        P[i-1] = Q + A.T @ P[i] @ A - (A.T @ P[i] @ B) @ np.linalg.pinv(\n",
        "            R + B.T @ P[i] @ B) @ (B.T @ P[i] @ A)   \n",
        "\n",
        "    # Create a list of N elements\n",
        "    K = [None] * N\n",
        "    u = [None] * N\n",
        "\n",
        "    P1 = P[N-1]\n",
        "\n",
        "    K1 = -np.linalg.inv(R + B.T @ P[N] @ B) @ B.T @ P[N] @ A\n",
        "    \n",
        "\n",
        "    return K1#K[N-1]"
      ]
    },
    {
      "cell_type": "code",
      "execution_count": 9,
      "metadata": {},
      "outputs": [
        {
          "name": "stdout",
          "output_type": "stream",
          "text": [
            "(3, 1)\n",
            "[[-4.90969223e-06]\n",
            " [ 1.12095772e-05]]\n",
            "[[1.40119715e-05 0.00000000e+00]\n",
            " [5.00000000e-01 0.00000000e+00]\n",
            " [0.00000000e+00 5.00000000e-01]]\n",
            "[[ 9.65661517]\n",
            " [20.00000982]\n",
            " [ 1.57077391]] [[10.        ]\n",
            " [20.        ]\n",
            " [ 1.57079633]]\n",
            "error 0.34338482749855587\n"
          ]
        },
        {
          "data": {
            "image/png": "[encoded data removed]",
            "text/plain": [
              "<Figure size 432x288 with 1 Axes>"
            ]
          },
          "metadata": {
            "needs_background": "light"
          },
          "output_type": "display_data"
        },
        {
          "data": {
            "image/png": "[encoded data removed]",
            "text/plain": [
              "<Figure size 432x288 with 1 Axes>"
            ]
          },
          "metadata": {
            "needs_background": "light"
          },
          "output_type": "display_data"
        }
      ],
      "source": [
        "def getB(yaw, dt):\n",
        "  B = np.matrix([[np.cos(yaw) * dt, 0], [np.sin(yaw) * dt, 0], [0, dt]])\n",
        "  return B\n",
        "\n",
        "A = np.matrix([[1.0, 0, 0],[0 , 1.0, 0], [0, 0, 1.0]])\n",
        "Q = np.matrix(\"0.5 0 0; 0 0.5 0; 0 0 0.01\")\n",
        "R = np.matrix(\"0.01 0; 0 0.01\")\n",
        "\n",
        "xd = np.matrix([[10], [20], [np.pi/2]])\n",
        "xk = np.matrix([[0], [0], [0]])\n",
        "print(xk.shape)\n",
        "dt = 0.1\n",
        "yaw = xk[2, 0]\n",
        "B= getB(yaw, dt)\n",
        "\n",
        "# Optional Variables\n",
        "max_linear_velocity = 3.0 # meters per second\n",
        "max_angular_velocity = 1.5708 # radians per second\n",
        "\n",
        "nsteps = 50\n",
        "time = np.linspace(0, 2, nsteps, endpoint=True)\n",
        "xd = np.matrix([[10], [20], [np.pi/2]])\n",
        "xk = np.matrix([[0], [0], [0]])\n",
        "dt = 0.5\n",
        "\n",
        "X = []\n",
        "Y = []\n",
        "T = []\n",
        "U = []\n",
        "errors = []\n",
        "max_linear_velocity = 3.0 # meters per second\n",
        "max_angular_velocity = 1.5708 # radians per second\n",
        "\n",
        "for t in time:\n",
        "    xe = xk - xd\n",
        "    errors.append( np.linalg.norm(xe))\n",
        "\n",
        "    yaw = xk[2, 0]\n",
        "    B= getB(yaw, dt) \n",
        "    K = dLQR(A,B,Q,R)\n",
        "\n",
        "    uk = K*xe\n",
        "    # clip does not work for X axis\n",
        "    uk = np.clip(uk, -max_linear_velocity, max_linear_velocity)\n",
        "\n",
        "    X.append(xk[0, 0])\n",
        "    Y.append(xk[1, 0])\n",
        "\n",
        "    xk = A*xk + B*uk\n",
        "\n",
        "print(uk)\n",
        "print(B)\n",
        "print(xk, xd)\n",
        "print('error', np.linalg.norm(xe))\n",
        "\n",
        "plt.plot(X, Y, label=\"car position, meters\")\n",
        "\n",
        "plt.legend(loc='upper right')\n",
        "plt.grid()\n",
        "plt.show()\n",
        "\n",
        "plt.plot(errors, label=\"error\")\n",
        "plt.grid()\n",
        "plt.show()"
      ]
    },
    {
      "cell_type": "code",
      "execution_count": 10,
      "metadata": {
        "id": "XrhUDPgPJre9"
      },
      "outputs": [
        {
          "name": "stdout",
          "output_type": "stream",
          "text": [
            "error 9.155133597044475e-16\n"
          ]
        },
        {
          "data": {
            "image/png": "[encoded data removed]",
            "text/plain": [
              "<Figure size 432x288 with 1 Axes>"
            ]
          },
          "metadata": {
            "needs_background": "light"
          },
          "output_type": "display_data"
        },
        {
          "data": {
            "image/png": "[encoded data removed]",
            "text/plain": [
              "<Figure size 432x288 with 1 Axes>"
            ]
          },
          "metadata": {
            "needs_background": "light"
          },
          "output_type": "display_data"
        }
      ],
      "source": [
        "# linear velocity dynnamics\n",
        "\n",
        "dt = 0.05\n",
        "\n",
        "A = np.matrix([[1, 0],[0 , 1]])\n",
        "B = np.matrix([[dt, 0], [0, dt]])\n",
        "\n",
        "Q = np.matrix(\"1 0; 0 1\")\n",
        "R = np.matrix(\"0.01 0; 0 0.01\")\n",
        "\n",
        "Q = np.matrix(\"1 0; 0 1\")\n",
        "R = np.matrix(\"0.01 0; 0 0.01\")\n",
        "K = dlqr(A,B,Q,R)\n",
        "\n",
        "nsteps = 250\n",
        "time = np.linspace(0, 2, nsteps, endpoint=True)\n",
        "xk = np.matrix(\"10; 20\")\n",
        "xd = xd = np.matrix(\"1; 5\")\n",
        "max_speed = 3.0\n",
        "\n",
        "X = []\n",
        "Y = []\n",
        "T = []\n",
        "U = []\n",
        "errors = []\n",
        "for t in time:\n",
        "    xe = xk - xd\n",
        "    uk = K*xe\n",
        "\n",
        "    # clip the control based on acuator limitation\n",
        "    uk = np.clip(uk, -max_speed, max_speed)\n",
        "\n",
        "    # check the condition of control limitation\n",
        "    assert abs(uk[1, 0]) <= 3.0 or abs(uk[0, 0]) <= 3.0, \"control inputs execeed limitation'\"\n",
        "    \n",
        "    X.append(xk[0, 0])\n",
        "    Y.append(xk[1, 0])\n",
        "    errors.append( np.linalg.norm(xe))\n",
        "\n",
        "    xk = A*xk + B*uk\n",
        "    \n",
        "print('error', np.linalg.norm(xe))\n",
        "plt.plot(X, Y, label=\"car position, meters\")\n",
        "plt.legend(loc='upper right')\n",
        "plt.grid()\n",
        "plt.show()\n",
        "\n",
        "\n",
        "plt.plot(errors, label=\"errors\")\n",
        "plt.legend(loc='upper right')\n",
        "plt.grid()\n",
        "plt.show()"
      ]
    },
    {
      "cell_type": "code",
      "execution_count": 11,
      "metadata": {
        "id": "DDuQI3KkJ9dA"
      },
      "outputs": [
        {
          "name": "stdout",
          "output_type": "stream",
          "text": [
            "LQR for linear acceleration model:  [[-8.72031057 -0.         -5.22725224 -0.        ]\n",
            " [-0.         -8.72031057 -0.         -5.22725224]]\n",
            "error 9.772254496625198e-15\n"
          ]
        },
        {
          "data": {
            "image/png": "[encoded data removed]",
            "text/plain": [
              "<Figure size 432x288 with 1 Axes>"
            ]
          },
          "metadata": {
            "needs_background": "light"
          },
          "output_type": "display_data"
        },
        {
          "data": {
            "image/png": "[encoded data removed]",
            "text/plain": [
              "<Figure size 432x288 with 1 Axes>"
            ]
          },
          "metadata": {
            "needs_background": "light"
          },
          "output_type": "display_data"
        }
      ],
      "source": [
        "# /home/mingyucai/git/LQR_CBF_rrtStar/~/anaconda3/lib/python3.7/site-packages/numpy/matrixlib/defmatrix.py\n",
        "\n",
        "# linear dynnamics (acceleration)\n",
        "\n",
        "dt = 0.05\n",
        "\n",
        "A = np.matrix([[1, 0, dt, 0],[0 , 1, 0, dt], [0, 0, 1, 0], [0, 0, 0, 1]])\n",
        "B = np.matrix([[0, 0], [0, 0], [dt, 0], [0, dt]])\n",
        "Q = np.matrix(\"1 0 0 0; 0 1 0 0; 0 0 0.1 0; 0 0 0 0.1\")\n",
        "R = np.matrix(\"0.01 0; 0 0.01\")\n",
        "\n",
        "K = dlqr(A,B,Q,R)\n",
        "print(\"LQR for linear acceleration model: \", K)\n",
        "\n",
        "nsteps = 500\n",
        "time = np.linspace(0, 2, nsteps, endpoint=True)\n",
        "xk = np.matrix(\"5; 5; 0; 0\")\n",
        "xd = xd = np.matrix(\"10; 20; 0; 0\")\n",
        "\n",
        "X = []\n",
        "Y = []\n",
        "T = []\n",
        "U = []\n",
        "errors = []\n",
        "for t in time:\n",
        "    xe = xk - xd\n",
        "    uk = K*xe\n",
        "    uk = np.clip(uk, -3.0, 3.0)  # control limitation\n",
        "\n",
        "    X.append(xk[0, 0])\n",
        "    Y.append(xk[1, 0])\n",
        "    errors.append( np.linalg.norm(xe))\n",
        "\n",
        "    xk = A*xk + B*uk\n",
        "\n",
        "print('error', np.linalg.norm(xe))\n",
        "\n",
        "plt.plot(X, Y, label=\"car position, meters\")\n",
        "plt.legend(loc='upper right')\n",
        "plt.grid()\n",
        "plt.show()\n",
        "\n",
        "\n",
        "plt.plot(errors, label=\"errors\")\n",
        "plt.legend(loc='upper right')\n",
        "plt.grid()\n",
        "plt.show()\n"
      ]
    },
    {
      "cell_type": "code",
      "execution_count": 12,
      "metadata": {},
      "outputs": [],
      "source": [
        "# nonlinear dynamic system\n",
        "\n",
        "# dxdt = v * cos(theta)\n",
        "# dydt = v * sin(theta)\n",
        "# dthetadt = yaw\n",
        "\n",
        "# System Modeling\n",
        "import numpy as np\n",
        "from scipy.integrate import odeint\n",
        "from scipy.interpolate import interp1d\n",
        "import cvxpy as cp\n",
        "\n",
        "import matplotlib.pyplot as plt\n",
        "\n",
        "import time\n",
        "\n",
        "\"\"\"\n",
        "Control problem statement.\n",
        "\"\"\"\n",
        "\n",
        "N = 3  # number of state variables\n",
        "M = 2  # number of control variables\n",
        "DT = 0.2  \n",
        "\n",
        "def get_linear_model(x_bar, u_bar):\n",
        "    \"\"\"\n",
        "    Computes the LTI approximated state space model x' = Ax + Bu + C\n",
        "    \"\"\"\n",
        "    x = x_bar[0]\n",
        "    y = x_bar[1]\n",
        "    theta = x_bar[2]\n",
        "\n",
        "    v = u_bar[0]\n",
        "    yaw = u_bar[1]\n",
        "\n",
        "    A = np.zeros((N, N))\n",
        "    A[0, 2] = -v * np.sin(theta)\n",
        "    A[1, 2] = v * np.sin(theta)\n",
        "    A_lin = np.eye(N) + DT * A\n",
        "\n",
        "    B = np.zeros((N, M))\n",
        "    B[0, 0] = np.cos(theta)\n",
        "    B[1, 1] = np.sin(theta)\n",
        "    B[2, 1] = 1\n",
        "    B_lin = DT * B\n",
        "\n",
        "    f_xu = np.array(\n",
        "        [v * np.cos(theta), v * np.sin(theta), theta]\n",
        "    ).reshape(N, 1)\n",
        "    C_lin = DT * (\n",
        "        f_xu - np.dot(A, x_bar.reshape(N, 1)) - np.dot(B, u_bar.reshape(M, 1))\n",
        "    )\n",
        "\n",
        "    return np.round(A_lin, 4), np.round(B_lin, 4), np.round(C_lin, 4)"
      ]
    },
    {
      "cell_type": "code",
      "execution_count": 14,
      "metadata": {},
      "outputs": [
        {
          "name": "stdout",
          "output_type": "stream",
          "text": [
            "[[1. 0. 0.]\n",
            " [0. 1. 0.]\n",
            " [0. 0. 1.]]\n",
            "[[0.1414 0.    ]\n",
            " [0.     0.1414]\n",
            " [0.     0.2   ]]\n",
            "[[0.    ]\n",
            " [0.    ]\n",
            " [0.1571]]\n",
            "LQR Gain for nonlinear velocity model:  [[-3.53553387  0.          0.        ]\n",
            " [ 0.         -4.65224012 -0.06580255]]\n",
            "error 0.48174725849030586\n",
            "[[49.80174013]\n",
            " [ 9.56094027]\n",
            " [32.06105357]]\n"
          ]
        },
        {
          "data": {
            "image/png": "[encoded data removed]",
            "text/plain": [
              "<Figure size 432x288 with 1 Axes>"
            ]
          },
          "metadata": {
            "needs_background": "light"
          },
          "output_type": "display_data"
        },
        {
          "data": {
            "image/png": "[encoded data removed]",
            "text/plain": [
              "<Figure size 432x288 with 1 Axes>"
            ]
          },
          "metadata": {
            "needs_background": "light"
          },
          "output_type": "display_data"
        }
      ],
      "source": [
        "xd = np.matrix([[50], [10], [np.pi/4]])\n",
        "ud = np.matrix([[0], [0]])\n",
        "\n",
        "A, B, C = get_linear_model(xd, ud)\n",
        "\n",
        "print(A)\n",
        "print(B)\n",
        "print(C)\n",
        "\n",
        "Q = np.matrix(\"0.5 0 0; 0 1 0; 0 0 0.01\")\n",
        "R = np.matrix(\"0.01 0; 0 0.01\")\n",
        "K = dLQR(A,B,Q,R)\n",
        "\n",
        "print(\"LQR Gain for nonlinear velocity model: \", K)\n",
        "\n",
        "nsteps = 500\n",
        "time = np.linspace(0, 2, nsteps, endpoint=True)\n",
        "xk = np.matrix([[0], [0], [0]])\n",
        "dt = 0.5\n",
        "\n",
        "max_linear_velocity = 3.0 # meters per second\n",
        "max_angular_velocity = 1.5708 # radians per second\n",
        "\n",
        "\n",
        "X = []\n",
        "Y = []\n",
        "T = []\n",
        "U = []\n",
        "errors = []\n",
        "for t in time:\n",
        "    xe = xk - xd\n",
        "    errors.append( np.linalg.norm(xe[0:2]))\n",
        "\n",
        "\n",
        "    uk = K*xe\n",
        "    uk[0] = np.clip(uk[0], -max_linear_velocity, max_linear_velocity)\n",
        "    uk[1] = np.clip(uk[1], -max_angular_velocity, max_angular_velocity)\n",
        "    if np.linalg.norm(xe[0:2]) < 0.5:\n",
        "      break\n",
        "\n",
        "    X.append(xk[0, 0])\n",
        "    Y.append(xk[1, 0])\n",
        "\n",
        "    xk = A*xk + B*uk + C\n",
        "\n",
        "print('error', np.linalg.norm(xe[0:2]))\n",
        "\n",
        "print(xk)\n",
        "plt.plot(X, Y, label=\"car position, meters\")\n",
        "\n",
        "plt.legend(loc='upper right')\n",
        "plt.grid()\n",
        "plt.show()\n",
        "\n",
        "plt.plot(errors, label=\"error\")\n",
        "plt.grid()\n",
        "plt.show()"
      ]
    },
    {
      "cell_type": "code",
      "execution_count": 15,
      "metadata": {},
      "outputs": [],
      "source": [
        "# nonlinear acceleration dynamic system\n",
        "\n",
        "# dxdt = v * cos(theta)\n",
        "# dydt = v * sin(theta)\n",
        "# dvdt = a\n",
        "# dthetadt = yaw\n",
        "\n",
        "# System Modeling\n",
        "import numpy as np\n",
        "from scipy.integrate import odeint\n",
        "from scipy.interpolate import interp1d\n",
        "import cvxpy as cp\n",
        "\n",
        "import matplotlib.pyplot as plt\n",
        "\n",
        "import time\n",
        "\n",
        "\"\"\"\n",
        "Control problem statement.\n",
        "\"\"\"\n",
        "\n",
        "N = 4  # number of state variables\n",
        "M = 2  # number of control variables\n",
        "DT = 0.2  \n",
        "\n",
        "# nonlinear acceleration model\n",
        "def get_linear_acc_model(x_bar, u_bar):\n",
        "    \"\"\"\n",
        "    Computes the LTI approximated state space model x' = Ax + Bu + C\n",
        "    \"\"\"\n",
        "\n",
        "    L = 0.3  # vehicle wheelbase\n",
        "\n",
        "    x = x_bar[0]\n",
        "    y = x_bar[1]\n",
        "    v = x_bar[2]\n",
        "    theta = x_bar[3]\n",
        "\n",
        "    a = u_bar[0]\n",
        "    delta = u_bar[1]\n",
        "\n",
        "    A = np.zeros((N, N))\n",
        "    A[0, 2] = np.cos(theta)\n",
        "    A[0, 3] = -v * np.sin(theta)\n",
        "    A[1, 2] = np.sin(theta)\n",
        "    A[1, 3] = v * np.cos(theta)\n",
        "    A[3, 2] = 0\n",
        "    A_lin = np.eye(N) + DT * A\n",
        "\n",
        "    B = np.zeros((N, M))\n",
        "    B[2, 0] = 1\n",
        "    B[3, 1] = 1\n",
        "    B_lin = DT * B\n",
        "\n",
        "    f_xu = np.array(\n",
        "        [v * np.cos(theta), v * np.sin(theta), a, v * np.tan(delta) / L]\n",
        "    ).reshape(N, 1)\n",
        "    C_lin = DT * (\n",
        "        f_xu - np.dot(A, x_bar.reshape(N, 1)) - np.dot(B, u_bar.reshape(M, 1))\n",
        "    )\n",
        "\n",
        "    return np.round(A_lin, 4), np.round(B_lin, 4), np.round(C_lin, 4)"
      ]
    },
    {
      "cell_type": "code",
      "execution_count": 36,
      "metadata": {},
      "outputs": [
        {
          "name": "stdout",
          "output_type": "stream",
          "text": [
            "[[ 1.      0.      0.1732 -0.01  ]\n",
            " [ 0.      1.      0.1     0.0173]\n",
            " [ 0.      0.      1.      0.    ]\n",
            " [ 0.      0.      0.      1.    ]]\n",
            "[[0.  0. ]\n",
            " [0.  0. ]\n",
            " [0.2 0. ]\n",
            " [0.  0.2]]\n",
            "[[ 0.0052]\n",
            " [-0.0091]\n",
            " [ 0.    ]\n",
            " [ 0.    ]]\n",
            "LQR Gain for nonlinear acceleration model: \n",
            "[[ 0.          0.         -0.83333333  0.        ]\n",
            " [ 0.          0.          0.         -1.42857143]]\n",
            "error 8.673254998513297\n",
            "final state: \n",
            "[[17.17092927]\n",
            " [ 9.91411077]\n",
            " [ 0.1       ]\n",
            " [ 0.52359878]]\n"
          ]
        },
        {
          "data": {
            "image/png": "[encoded data removed]",
            "text/plain": [
              "<Figure size 432x288 with 1 Axes>"
            ]
          },
          "metadata": {
            "needs_background": "light"
          },
          "output_type": "display_data"
        },
        {
          "data": {
            "image/png": "[encoded data removed]",
            "text/plain": [
              "<Figure size 432x288 with 1 Axes>"
            ]
          },
          "metadata": {
            "needs_background": "light"
          },
          "output_type": "display_data"
        }
      ],
      "source": [
        "xd = np.matrix([[10], [5], [0.1], [np.pi/6]])\n",
        "ud = np.matrix([[0], [0]])\n",
        "\n",
        "xk = np.matrix([[0], [0], [0], [np.pi/4]])\n",
        "\n",
        "A, B, C = get_linear_acc_model(xd, ud)\n",
        "\n",
        "print(A)\n",
        "print(B)\n",
        "print(C)\n",
        "\n",
        "Q = np.matrix(\"0.5 0 0 0; 0 0.5 0 0; 0 0 0.05 0; 0 0 0 0.1\")\n",
        "R = np.matrix(\"0.01 0; 0 0.01\")\n",
        "K = dLQR(A,B,Q,R)\n",
        "print('LQR Gain for nonlinear acceleration model: ')\n",
        "print(K)\n",
        "\n",
        "nsteps = 1000\n",
        "time = np.linspace(0, 2, nsteps, endpoint=True)\n",
        "dt = 0.2\n",
        "\n",
        "max_acc = 3.0 \n",
        "max_angular_velocity = 1.5708 \n",
        "\n",
        "\n",
        "X = []\n",
        "Y = []\n",
        "T = []\n",
        "U = []\n",
        "errors = []\n",
        "for t in time:\n",
        "    xe = xk - xd\n",
        "    errors.append( np.linalg.norm(xe[0:2]))\n",
        "\n",
        "    uk = K*xe\n",
        "    uk[0] = np.clip(uk[0], -max_acc, max_acc)\n",
        "    uk[1] = np.clip(uk[1], -max_angular_velocity, max_angular_velocity)\n",
        "    if np.linalg.norm(xe[0:2]) < 0.5:\n",
        "      print('goal reach')\n",
        "      break\n",
        "\n",
        "    X.append(xk[0, 0])\n",
        "    Y.append(xk[1, 0])\n",
        "\n",
        "    xk = A*xk + B*uk + C\n",
        "\n",
        "print('error', np.linalg.norm(xe[0:2]))\n",
        "\n",
        "print(\"final state: \")\n",
        "print(xk)\n",
        "plt.plot(X, Y, label=\"car position, meters\")\n",
        "\n",
        "plt.legend(loc='upper right')\n",
        "plt.grid()\n",
        "plt.show()\n",
        "\n",
        "plt.plot(errors, label=\"error\")\n",
        "plt.grid()\n",
        "plt.show()"
      ]
    },
    {
      "cell_type": "code",
      "execution_count": null,
      "metadata": {},
      "outputs": [],
      "source": []
    }
  ],
  "metadata": {
    "colab": {
      "authorship_tag": "ABX9TyMKYXriCAnN+6rCBfAlqOl4",
      "include_colab_link": true,
      "provenance": []
    },
    "kernelspec": {
      "display_name": "Python 3",
      "name": "python3"
    },
    "language_info": {
      "codemirror_mode": {
        "name": "ipython",
        "version": 3
      },
      "file_extension": ".py",
      "mimetype": "text/x-python",
      "name": "python",
      "nbconvert_exporter": "python",
      "pygments_lexer": "ipython3",
      "version": "3.7.10"
    }
  },
  "nbformat": 4,
  "nbformat_minor": 0
}
