{
  "cells": [
    {
      "cell_type": "markdown",
      "metadata": {
        "colab_type": "text",
        "id": "view-in-github"
      },
      "source": [
        "<a href=\"https://colab.research.google.com/github/mingyucai/LQR_CBF_rrtStar/blob/main/LQR_car_model.ipynb\" target=\"_parent\"><img src=\"https://colab.research.google.com/assets/colab-badge.svg\" alt=\"Open In Colab\"/></a>"
      ]
    },
    {
      "cell_type": "code",
      "execution_count": null,
      "metadata": {
        "id": "voVg2p7N0ki0"
      },
      "outputs": [],
      "source": [
        "# continuous LQR: https://github.com/stephentu/zero-to-cartpole/blob/master/swing-up.ipynb\n",
        "\n",
        "# iLQR: https://studywolf.wordpress.com/2016/02/03/the-iterative-linear-quadratic-regulator-method/\n",
        "# iLQR paper: https://homes.cs.washington.edu/~todorov/papers/TassaIROS12.pdf  implementation: https://github.com/anassinator/ilqr"
      ]
    },
    {
      "cell_type": "code",
      "execution_count": 5,
      "metadata": {
        "id": "UQKl-AqZJSfB"
      },
      "outputs": [],
      "source": [
        "import numpy as np\n",
        "import scipy.linalg\n",
        "import matplotlib.pyplot as plt\n",
        "\n",
        "def dlqr(A,B,Q,R):\n",
        "    \"\"\"\n",
        "    Solve the discrete time lqr controller.\n",
        "    x[k+1] = A x[k] + B u[k]\n",
        "    cost = sum x[k].T*Q*x[k] + u[k].T*R*u[k]\n",
        "    \"\"\"\n",
        "    # first, solve the ricatti equation\n",
        "    P = np.matrix(scipy.linalg.solve_discrete_are(A, B, Q, R))\n",
        "    # compute the LQR gain\n",
        "    K = np.matrix(scipy.linalg.inv(B.T*P*B+R)*(B.T*P*A))\n",
        "\n",
        "    eigVals, eigVecs = scipy.linalg.eig(A-B*K)\n",
        "    \n",
        "    return -K\n",
        "\n",
        "def lqr(A,B,Q,R):\n",
        "  X = np.matrix(scipy.linalg.solve_continuous_are(A, B, Q, R))\n",
        "  #compute the LQR gain\n",
        "  K = np.matrix(scipy.linalg.inv(R)*(B.T*X))\n",
        "\n",
        "  eigVals, eigVecs = scipy.linalg.eig(A-B*K)\n",
        "\n",
        "  return -K"
      ]
    },
    {
      "cell_type": "code",
      "execution_count": 6,
      "metadata": {
        "colab": {
          "base_uri": "https://localhost:8080/"
        },
        "id": "IeCykiSmJUPC",
        "outputId": "a722e113-e10c-4027-e36c-135c88029f3a"
      },
      "outputs": [
        {
          "name": "stdout",
          "output_type": "stream",
          "text": [
            "(3, 1)\n"
          ]
        }
      ],
      "source": [
        "def getB(yaw, dt):\n",
        "  B = np.matrix([[np.cos(yaw) * dt, 0], [np.sin(yaw) * dt, 0], [0, dt]])\n",
        "  return B\n",
        "\n",
        "A = np.matrix([[1.0, 0, 0],[0 , 1.0, 0], [0, 0, 1.0]])\n",
        "Q = np.matrix(\"0.5 0 0; 0 1 0; 0 0 1\")\n",
        "R = np.matrix(\"0.01 0; 0 0.01\")\n",
        "\n",
        "# print(xk[2, 0])\n",
        "# print(R)\n",
        "xd = np.matrix([[10], [20], [np.pi/2]])\n",
        "xk = np.matrix([[0], [0], [0]])\n",
        "print(xk.shape)\n",
        "dt = 0.1\n",
        "yaw = xk[2, 0]\n",
        "B= getB(yaw, dt)\n",
        "\n",
        "# Optional Variables\n",
        "max_linear_velocity = 3.0 # meters per second\n",
        "max_angular_velocity = 1.5708 # radians per second\n",
        "# xe = xk - xd\n",
        "# K = dlqr(A,B,Q,R)\n",
        "# uk = K*xe\n",
        "# print(uk)z\n",
        "# print(uk)"
      ]
    },
    {
      "cell_type": "code",
      "execution_count": 7,
      "metadata": {
        "colab": {
          "base_uri": "https://localhost:8080/",
          "height": 344
        },
        "id": "amMjY4l8JWL7",
        "outputId": "660ffddb-a925-46ef-d1d2-cf04f3a29238"
      },
      "outputs": [
        {
          "ename": "LinAlgError",
          "evalue": "Failed to find a finite solution.",
          "output_type": "error",
          "traceback": [
            "\u001b[0;31m---------------------------------------------------------------------------\u001b[0m",
            "\u001b[0;31mLinAlgError\u001b[0m                               Traceback (most recent call last)",
            "\u001b[0;32m/tmp/ipykernel_4159/574807250.py\u001b[0m in \u001b[0;36m<module>\u001b[0;34m\u001b[0m\n\u001b[0;32m----> 1\u001b[0;31m \u001b[0mK\u001b[0m \u001b[0;34m=\u001b[0m \u001b[0mdlqr\u001b[0m\u001b[0;34m(\u001b[0m\u001b[0mA\u001b[0m\u001b[0;34m,\u001b[0m\u001b[0mB\u001b[0m\u001b[0;34m,\u001b[0m\u001b[0mQ\u001b[0m\u001b[0;34m,\u001b[0m\u001b[0mR\u001b[0m\u001b[0;34m)\u001b[0m\u001b[0;34m\u001b[0m\u001b[0;34m\u001b[0m\u001b[0m\n\u001b[0m\u001b[1;32m      2\u001b[0m \u001b[0mprint\u001b[0m\u001b[0;34m(\u001b[0m\u001b[0mK\u001b[0m\u001b[0;34m)\u001b[0m\u001b[0;34m\u001b[0m\u001b[0;34m\u001b[0m\u001b[0m\n",
            "\u001b[0;32m/tmp/ipykernel_4159/3193166868.py\u001b[0m in \u001b[0;36mdlqr\u001b[0;34m(A, B, Q, R)\u001b[0m\n\u001b[1;32m     10\u001b[0m     \"\"\"\n\u001b[1;32m     11\u001b[0m     \u001b[0;31m# first, solve the ricatti equation\u001b[0m\u001b[0;34m\u001b[0m\u001b[0;34m\u001b[0m\u001b[0;34m\u001b[0m\u001b[0m\n\u001b[0;32m---> 12\u001b[0;31m     \u001b[0mP\u001b[0m \u001b[0;34m=\u001b[0m \u001b[0mnp\u001b[0m\u001b[0;34m.\u001b[0m\u001b[0mmatrix\u001b[0m\u001b[0;34m(\u001b[0m\u001b[0mscipy\u001b[0m\u001b[0;34m.\u001b[0m\u001b[0mlinalg\u001b[0m\u001b[0;34m.\u001b[0m\u001b[0msolve_discrete_are\u001b[0m\u001b[0;34m(\u001b[0m\u001b[0mA\u001b[0m\u001b[0;34m,\u001b[0m \u001b[0mB\u001b[0m\u001b[0;34m,\u001b[0m \u001b[0mQ\u001b[0m\u001b[0;34m,\u001b[0m \u001b[0mR\u001b[0m\u001b[0;34m)\u001b[0m\u001b[0;34m)\u001b[0m\u001b[0;34m\u001b[0m\u001b[0;34m\u001b[0m\u001b[0m\n\u001b[0m\u001b[1;32m     13\u001b[0m     \u001b[0;31m# compute the LQR gain\u001b[0m\u001b[0;34m\u001b[0m\u001b[0;34m\u001b[0m\u001b[0;34m\u001b[0m\u001b[0m\n\u001b[1;32m     14\u001b[0m     \u001b[0mK\u001b[0m \u001b[0;34m=\u001b[0m \u001b[0mnp\u001b[0m\u001b[0;34m.\u001b[0m\u001b[0mmatrix\u001b[0m\u001b[0;34m(\u001b[0m\u001b[0mscipy\u001b[0m\u001b[0;34m.\u001b[0m\u001b[0mlinalg\u001b[0m\u001b[0;34m.\u001b[0m\u001b[0minv\u001b[0m\u001b[0;34m(\u001b[0m\u001b[0mB\u001b[0m\u001b[0;34m.\u001b[0m\u001b[0mT\u001b[0m\u001b[0;34m*\u001b[0m\u001b[0mP\u001b[0m\u001b[0;34m*\u001b[0m\u001b[0mB\u001b[0m\u001b[0;34m+\u001b[0m\u001b[0mR\u001b[0m\u001b[0;34m)\u001b[0m\u001b[0;34m*\u001b[0m\u001b[0;34m(\u001b[0m\u001b[0mB\u001b[0m\u001b[0;34m.\u001b[0m\u001b[0mT\u001b[0m\u001b[0;34m*\u001b[0m\u001b[0mP\u001b[0m\u001b[0;34m*\u001b[0m\u001b[0mA\u001b[0m\u001b[0;34m)\u001b[0m\u001b[0;34m)\u001b[0m\u001b[0;34m\u001b[0m\u001b[0;34m\u001b[0m\u001b[0m\n",
            "\u001b[0;32m~/anaconda3/lib/python3.7/site-packages/scipy/linalg/_solvers.py\u001b[0m in \u001b[0;36msolve_discrete_are\u001b[0;34m(a, b, q, r, e, s, balanced)\u001b[0m\n\u001b[1;32m    709\u001b[0m \u001b[0;34m\u001b[0m\u001b[0m\n\u001b[1;32m    710\u001b[0m     \u001b[0;32mif\u001b[0m \u001b[0;36m1\u001b[0m\u001b[0;34m/\u001b[0m\u001b[0mcond\u001b[0m\u001b[0;34m(\u001b[0m\u001b[0muu\u001b[0m\u001b[0;34m)\u001b[0m \u001b[0;34m<\u001b[0m \u001b[0mnp\u001b[0m\u001b[0;34m.\u001b[0m\u001b[0mspacing\u001b[0m\u001b[0;34m(\u001b[0m\u001b[0;36m1.\u001b[0m\u001b[0;34m)\u001b[0m\u001b[0;34m:\u001b[0m\u001b[0;34m\u001b[0m\u001b[0;34m\u001b[0m\u001b[0m\n\u001b[0;32m--> 711\u001b[0;31m         \u001b[0;32mraise\u001b[0m \u001b[0mLinAlgError\u001b[0m\u001b[0;34m(\u001b[0m\u001b[0;34m'Failed to find a finite solution.'\u001b[0m\u001b[0;34m)\u001b[0m\u001b[0;34m\u001b[0m\u001b[0;34m\u001b[0m\u001b[0m\n\u001b[0m\u001b[1;32m    712\u001b[0m \u001b[0;34m\u001b[0m\u001b[0m\n\u001b[1;32m    713\u001b[0m     \u001b[0;31m# Exploit the triangular structure\u001b[0m\u001b[0;34m\u001b[0m\u001b[0;34m\u001b[0m\u001b[0;34m\u001b[0m\u001b[0m\n",
            "\u001b[0;31mLinAlgError\u001b[0m: Failed to find a finite solution."
          ]
        }
      ],
      "source": [
        "K = dlqr(A,B,Q,R)\n",
        "print(K)"
      ]
    },
    {
      "cell_type": "code",
      "execution_count": 8,
      "metadata": {
        "id": "zxzuWkpqJYZ-"
      },
      "outputs": [],
      "source": [
        "def dLQR(A, B, Q, R):\n",
        "    \"\"\"\n",
        "    Discrete-time linear quadratic regulator for a nonlinear system.\n",
        " \n",
        "    Compute the optimal control inputs given a nonlinear system, cost matrices, \n",
        "    current state, and a final state.\n",
        "     \n",
        "    Compute the control variables that minimize the cumulative cost.\n",
        " \n",
        "    Solve for P using the dynamic programming method.\n",
        " \n",
        "    :param actual_state_x: The current state of the system \n",
        "        3x1 NumPy Array given the state is [x,y,yaw angle] --->\n",
        "        [meters, meters, radians]\n",
        "    :param desired_state_xf: The desired state of the system\n",
        "        3x1 NumPy Array given the state is [x,y,yaw angle] --->\n",
        "        [meters, meters, radians]   \n",
        "    :param Q: The state cost matrix\n",
        "        3x3 NumPy Array\n",
        "    :param R: The input cost matrix\n",
        "        2x2 NumPy Array\n",
        "    :param dt: The size of the timestep in seconds -> float\n",
        " \n",
        "    :return: u_star: Optimal action u for the current state \n",
        "        2x1 NumPy Array given the control input vector is\n",
        "        [linear velocity of the car, angular velocity of the car]\n",
        "        [meters per second, radians per second]\n",
        "    \"\"\"\n",
        " \n",
        "\n",
        "    N = 50\n",
        " \n",
        "    # Create a list of N + 1 elements\n",
        "    P = [None] * (N + 1)\n",
        "     \n",
        "    Qf = Q\n",
        " \n",
        "    # LQR via Dynamic Programming\n",
        "    P[N] = Qf\n",
        " \n",
        "    # For i = N, ..., 1\n",
        "    for i in range(N, 0, -1):\n",
        " \n",
        "        # Discrete-time Algebraic Riccati equation to calculate the optimal \n",
        "        # state cost matrix\n",
        "        P[i-1] = Q + A.T @ P[i] @ A - (A.T @ P[i] @ B) @ np.linalg.pinv(\n",
        "            R + B.T @ P[i] @ B) @ (B.T @ P[i] @ A)   \n",
        "\n",
        "        # print(P[i-1])   \n",
        "\n",
        "    \n",
        "    # Create a list of N elements\n",
        "    K = [None] * N\n",
        "    u = [None] * N\n",
        "\n",
        "    P1 = P[N-1]\n",
        "    # K1 = np.matrix(scipy.linalg.inv(B.T*P1*B+R)*(B.T*P1*A))\n",
        "    # print('inner', K1)\n",
        "\n",
        "    # print('solution', B.T @ P[N] @ B + R)\n",
        "    # print(\"K\", -np.linalg.inv(R + B.T @ P[N] @ B) @ B.T @ P[N] @ A)\n",
        "    # # For i = 0, ..., N - 1\n",
        "    # for i in range(N):\n",
        " \n",
        "    #     # Calculate the optimal feedback gain K\n",
        "    #     print(B.T @ P[i+1] @ B + R)\n",
        "    #     K[i] = -np.linalg.inv(R + B.T @ P[i+1] @ B) @ B.T @ P[i+1] @ A\n",
        "\n",
        "    K1 = -np.linalg.inv(R + B.T @ P[N] @ B) @ B.T @ P[N] @ A\n",
        "    \n",
        "\n",
        "    return K1#K[N-1]"
      ]
    },
    {
      "cell_type": "code",
      "execution_count": 9,
      "metadata": {
        "colab": {
          "base_uri": "https://localhost:8080/"
        },
        "id": "ndfv25kUJi4D",
        "outputId": "8be2a39c-4355-4ecb-9821-675e1925e014"
      },
      "outputs": [
        {
          "name": "stdout",
          "output_type": "stream",
          "text": [
            "[[-3.33333333  0.          0.        ]\n",
            " [ 0.          0.         -5.        ]]\n"
          ]
        }
      ],
      "source": [
        "K = dLQR(A,B,Q,R)\n",
        "print(K)"
      ]
    },
    {
      "cell_type": "code",
      "execution_count": 10,
      "metadata": {},
      "outputs": [
        {
          "name": "stdout",
          "output_type": "stream",
          "text": [
            "(3, 1)\n"
          ]
        }
      ],
      "source": [
        "def getB(yaw, dt):\n",
        "  B = np.matrix([[np.cos(yaw) * dt, 0], [np.sin(yaw) * dt, 0], [0, dt]])\n",
        "  return B\n",
        "\n",
        "A = np.matrix([[1.0, 0, 0],[0 , 1.0, 0], [0, 0, 1.0]])\n",
        "Q = np.matrix(\"0.5 0 0; 0 0.5 0; 0 0 0.01\")\n",
        "R = np.matrix(\"0.01 0; 0 0.01\")\n",
        "\n",
        "# print(xk[2, 0])\n",
        "# print(R)\n",
        "xd = np.matrix([[10], [20], [np.pi/2]])\n",
        "xk = np.matrix([[0], [0], [0]])\n",
        "print(xk.shape)\n",
        "dt = 0.1\n",
        "yaw = xk[2, 0]\n",
        "B= getB(yaw, dt)\n",
        "\n",
        "# Optional Variables\n",
        "max_linear_velocity = 3.0 # meters per second\n",
        "max_angular_velocity = 1.5708 # radians per second"
      ]
    },
    {
      "cell_type": "code",
      "execution_count": 11,
      "metadata": {
        "colab": {
          "base_uri": "https://localhost:8080/",
          "height": 531
        },
        "id": "_UXSRviXJpCr",
        "outputId": "f740bcb0-224a-45b8-fbb4-f6a770b132f9"
      },
      "outputs": [
        {
          "name": "stdout",
          "output_type": "stream",
          "text": [
            "[[-4.90969223e-06]\n",
            " [ 1.12095772e-05]]\n",
            "[[1.40119715e-05 0.00000000e+00]\n",
            " [5.00000000e-01 0.00000000e+00]\n",
            " [0.00000000e+00 5.00000000e-01]]\n",
            "[[ 9.65661517]\n",
            " [20.00000982]\n",
            " [ 1.57077391]] [[10.        ]\n",
            " [20.        ]\n",
            " [ 1.57079633]]\n",
            "error 0.34338482749855587\n"
          ]
        },
        {
          "data": {
            "image/png": "[encoded data removed]",
            "text/plain": [
              "<Figure size 432x288 with 1 Axes>"
            ]
          },
          "metadata": {
            "needs_background": "light"
          },
          "output_type": "display_data"
        },
        {
          "data": {
            "image/png": "[encoded data removed]",
            "text/plain": [
              "<Figure size 432x288 with 1 Axes>"
            ]
          },
          "metadata": {
            "needs_background": "light"
          },
          "output_type": "display_data"
        }
      ],
      "source": [
        "nsteps = 50\n",
        "time = np.linspace(0, 2, nsteps, endpoint=True)\n",
        "xd = np.matrix([[10], [20], [np.pi/2]])\n",
        "xk = np.matrix([[0], [0], [0]])\n",
        "dt = 0.5\n",
        "\n",
        "X = []\n",
        "Y = []\n",
        "T = []\n",
        "U = []\n",
        "errors = []\n",
        "max_linear_velocity = 3.0 # meters per second\n",
        "max_angular_velocity = 1.5708 # radians per second\n",
        "\n",
        "for t in time:\n",
        "    xe = xk - xd\n",
        "    errors.append( np.linalg.norm(xe))\n",
        "\n",
        "    yaw = xk[2, 0]\n",
        "    B= getB(yaw, dt) \n",
        "    K = dLQR(A,B,Q,R)\n",
        "\n",
        "    uk = K*xe\n",
        "    # clip does not work for X axis\n",
        "    uk = np.clip(uk, -max_linear_velocity, max_linear_velocity)\n",
        "\n",
        "    X.append(xk[0, 0])\n",
        "    Y.append(xk[1, 0])\n",
        "\n",
        "    xk = A*xk + B*uk\n",
        "\n",
        "print(uk)\n",
        "print(B)\n",
        "print(xk, xd)\n",
        "print('error', np.linalg.norm(xe))\n",
        "\n",
        "plt.plot(X, Y, label=\"car position, meters\")\n",
        "# plt.plot(time, T, label='pendulum angle, radians')\n",
        "# plt.plot(time, U, label='control voltage, decavolts')\n",
        "\n",
        "plt.legend(loc='upper right')\n",
        "plt.grid()\n",
        "plt.show()\n",
        "\n",
        "plt.plot(errors, label=\"error\")\n",
        "plt.grid()\n",
        "plt.show()"
      ]
    },
    {
      "cell_type": "code",
      "execution_count": 12,
      "metadata": {
        "id": "XrhUDPgPJre9"
      },
      "outputs": [],
      "source": [
        "# linear dynnamics\n",
        "\n",
        "dt = 0.05\n",
        "\n",
        "A = np.matrix([[1, 0],[0 , 1]])\n",
        "B = np.matrix([[dt, 0], [0, dt]])\n",
        "\n",
        "Q = np.matrix(\"1 0; 0 1\")\n",
        "R = np.matrix(\"0.01 0; 0 0.01\")\n",
        "\n",
        "Q = np.matrix(\"1 0; 0 1\")\n",
        "R = np.matrix(\"0.01 0; 0 0.01\")\n",
        "K = dlqr(A,B,Q,R)"
      ]
    },
    {
      "cell_type": "code",
      "execution_count": 13,
      "metadata": {
        "colab": {
          "base_uri": "https://localhost:8080/",
          "height": 513
        },
        "id": "kLKVyAtgJ5bA",
        "outputId": "7cd11d34-7063-48e9-8e7d-78eb740a6c77"
      },
      "outputs": [
        {
          "name": "stdout",
          "output_type": "stream",
          "text": [
            "error 9.155133597044475e-16\n"
          ]
        },
        {
          "data": {
            "image/png": "[encoded data removed]",
            "text/plain": [
              "<Figure size 432x288 with 1 Axes>"
            ]
          },
          "metadata": {
            "needs_background": "light"
          },
          "output_type": "display_data"
        },
        {
          "data": {
            "image/png": "[encoded data removed]",
            "text/plain": [
              "<Figure size 432x288 with 1 Axes>"
            ]
          },
          "metadata": {
            "needs_background": "light"
          },
          "output_type": "display_data"
        }
      ],
      "source": [
        "nsteps = 250\n",
        "time = np.linspace(0, 2, nsteps, endpoint=True)\n",
        "xk = np.matrix(\"10; 20\")\n",
        "xd = xd = np.matrix(\"1; 5\")\n",
        "max_speed = 3.0\n",
        "\n",
        "X = []\n",
        "Y = []\n",
        "T = []\n",
        "U = []\n",
        "errors = []\n",
        "for t in time:\n",
        "    xe = xk - xd\n",
        "    uk = K*xe\n",
        "\n",
        "    # clip the control based on acuator limitation\n",
        "    uk = np.clip(uk, -max_speed, max_speed)\n",
        "\n",
        "    # check the condition of control limitation\n",
        "    assert abs(uk[1, 0]) <= 3.0 or abs(uk[0, 0]) <= 3.0, \"control inputs execeed limitation'\"\n",
        "    \n",
        "    X.append(xk[0, 0])\n",
        "    Y.append(xk[1, 0])\n",
        "    errors.append( np.linalg.norm(xe))\n",
        "\n",
        "    xk = A*xk + B*uk\n",
        "    \n",
        "print('error', np.linalg.norm(xe))\n",
        "plt.plot(X, Y, label=\"car position, meters\")\n",
        "plt.legend(loc='upper right')\n",
        "plt.grid()\n",
        "plt.show()\n",
        "\n",
        "\n",
        "plt.plot(errors, label=\"errors\")\n",
        "plt.legend(loc='upper right')\n",
        "plt.grid()\n",
        "plt.show()"
      ]
    },
    {
      "cell_type": "code",
      "execution_count": null,
      "metadata": {
        "id": "DDuQI3KkJ9dA"
      },
      "outputs": [],
      "source": [
        "# /home/mingyucai/git/LQR_CBF_rrtStar/~/anaconda3/lib/python3.7/site-packages/numpy/matrixlib/defmatrix.py"
      ]
    }
  ],
  "metadata": {
    "colab": {
      "authorship_tag": "ABX9TyMKYXriCAnN+6rCBfAlqOl4",
      "include_colab_link": true,
      "provenance": []
    },
    "kernelspec": {
      "display_name": "Python 3",
      "name": "python3"
    },
    "language_info": {
      "codemirror_mode": {
        "name": "ipython",
        "version": 3
      },
      "file_extension": ".py",
      "mimetype": "text/x-python",
      "name": "python",
      "nbconvert_exporter": "python",
      "pygments_lexer": "ipython3",
      "version": "3.7.10"
    }
  },
  "nbformat": 4,
  "nbformat_minor": 0
}
